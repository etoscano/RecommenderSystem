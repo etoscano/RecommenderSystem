{
 "cells": [
  {
   "cell_type": "code",
   "execution_count": 1,
   "metadata": {},
   "outputs": [
    {
     "name": "stdout",
     "output_type": "stream",
     "text": [
      "The number of interactions is 18491\n"
     ]
    }
   ],
   "source": [
    "import numpy as np\n",
    "import scipy\n",
    "import scipy.sparse as sps\n",
    "import pandas as pd\n",
    "import math\n",
    "import random\n",
    "import sklearn\n",
    "from nltk.corpus import stopwords\n",
    "from sklearn.model_selection import train_test_split\n",
    "from sklearn.feature_extraction.text import TfidfVectorizer\n",
    "from sklearn.metrics.pairwise import cosine_similarity\n",
    "from scipy.sparse.linalg import svds\n",
    "import matplotlib.pyplot as plt\n",
    "\n",
    "################################### USER FILES\n",
    "userAge_file = open('D:/JupyterFolder/Data/data_UCM_age.csv', 'r')\n",
    "userGeo_file = open('D:/JupyterFolder/Data/data_UCM_region.csv', 'r')\n",
    "\n",
    "################################### ITEM FILES\n",
    "itemValue_file = open('D:/JupyterFolder/Data/data_ICM_asset.csv', 'r')\n",
    "itemClass_file = open('D:/JupyterFolder/Data/data_ICM_sub_class.csv', 'r')\n",
    "itemPrice_file = open('D:/JupyterFolder/Data/data_ICM_price.csv', 'r')\n",
    "\n",
    "################################### USER ITEM FILE\n",
    "userItem_file = open('D:/JupyterFolder/Data/data_train.csv', 'r')\n",
    "\n",
    "################################### USER ITEM FILE\n",
    "finalUsers_file = open('D:/JupyterFolder/Data/data_target_users_test.csv', 'r')\n",
    "\n",
    "itemValue_file.seek(0)\n",
    "numberInteractions = 0\n",
    "\n",
    "for _ in itemValue_file:\n",
    "   numberInteractions += 1\n",
    "\n",
    "print (\"The number of interactions is {}\".format(numberInteractions))\n",
    "\n",
    "itemValue_file.seek(0)\n",
    "\n",
    "#SKIPS FIRST LINE\n",
    "itemValue_file.readline()\n",
    "itemClass_file.readline()\n",
    "itemPrice_file.readline()\n",
    "userGeo_file.readline()\n",
    "userAge_file.readline()\n",
    "userItem_file.readline()\n",
    "finalUsers_file.readline()\n",
    "    \n",
    "#################################\n",
    "def rowSplit (rowString):\n",
    "    \n",
    "    split = rowString.split(\",\")\n",
    "    split[2] = split[2].replace(\"\\n\",\"\")\n",
    "    \n",
    "    split[0] = int(split[0])\n",
    "    split[1] = int(split[1])\n",
    "    split[2] = float(split[2])\n",
    "    \n",
    "    result = tuple(split)\n",
    "    \n",
    "    return result\n",
    "################################ DIVIDE FILE ITEM USER\n",
    "\n",
    "userItem_tuples = []\n",
    "\n",
    "for line in userItem_file:\n",
    "   userItem_tuples.append(rowSplit (line))\n",
    "\n",
    "userList, itemList, interactedList = zip(*userItem_tuples)\n",
    "\n",
    "userList = list(userList)\n",
    "itemList = list(itemList)\n",
    "interactedList = list(interactedList)\n",
    "\n",
    "############################## DIVIDE FILE AGE ID 0\n",
    "\n",
    "userAge_tuples = []\n",
    "\n",
    "for line in userAge_file:\n",
    "   userAge_tuples.append(rowSplit (line))\n",
    "\n",
    "userAgeList, ageList, ageIDList = zip(*userAge_tuples)\n",
    "\n",
    "userAgeList = list(userAgeList)\n",
    "ageList = list(ageList)\n",
    "ageIDList = list(ageIDList)\n",
    "\n",
    "ageIDList = [0] * len(ageList)\n",
    "\n",
    "############################## DIVIDE FILE GEO ID 1\n",
    "userGeo_tuples = []\n",
    "\n",
    "for line in userGeo_file:\n",
    "  userGeo_tuples.append(rowSplit (line))\n",
    "\n",
    "userGeoList, geoList, geoIDList = zip(*userGeo_tuples)\n",
    "\n",
    "userGeoList = list(userGeoList)\n",
    "geoList = list(geoList)\n",
    "geoIDList = list(geoIDList)\n",
    "\n",
    "geoIDList = [1] * len(geoList)\n",
    "\n",
    "##############################  DIVIDE FILE CLASS ID 0\n",
    "\n",
    "itemClass_tuples = []\n",
    "\n",
    "for line in itemClass_file:\n",
    "  itemClass_tuples.append(rowSplit (line))\n",
    "\n",
    "itemClassList, classList, classIDList = zip(*itemClass_tuples)\n",
    "\n",
    "itemClassList = list(itemClassList)\n",
    "classList = list(classList)\n",
    "classIDList = list(classIDList)\n",
    "\n",
    "classIDList = [0] * len(classList)\n",
    "\n",
    "############################### DIVIDE FILE ASSET VALUES ID 1\n",
    "\n",
    "itemValue_tuples = []\n",
    "\n",
    "for line in itemValue_file:\n",
    "   itemValue_tuples.append(rowSplit (line))\n",
    "\n",
    "itemValueList, valueIDList, valueList = zip(*itemValue_tuples)\n",
    "\n",
    "itemValueList = list(itemValueList)\n",
    "valueIDList = list(valueIDList)\n",
    "valueList = list(valueList)\n",
    "\n",
    "valueIDList = [1] * len(valueList)\n",
    "\n",
    "############################## DIVIDE FILE PRICE ID 2\n",
    "\n",
    "itemPrice_tuples = []\n",
    "\n",
    "for line in itemPrice_file:\n",
    "   itemPrice_tuples.append(rowSplit (line))\n",
    "\n",
    "itemPriceList, priceIDList, priceList = zip(*itemPrice_tuples)\n",
    "\n",
    "itemPriceList = list(itemPriceList)\n",
    "priceIDList = list(priceIDList)\n",
    "priceList = list(priceList)\n",
    "\n",
    "priceIDList = [2] * len(priceList)\n",
    "\n",
    "############################## DIVIDE FILE FINAL\n",
    "\n",
    "finalUsers = []\n",
    "\n",
    "for line in finalUsers_file:\n",
    "   finalUsers.append(line.strip())\n",
    "\n",
    "finalUsers = [int(i) for i in finalUsers]\n",
    "\n",
    "#print(finalUsers)\n",
    "#print(priceIDList)"
   ]
  },
  {
   "cell_type": "code",
   "execution_count": 2,
   "metadata": {},
   "outputs": [
    {
     "name": "stdout",
     "output_type": "stream",
     "text": [
      "Number of items\t 15277, Number of users\t 27255\n",
      "Max ID items\t 18494, Max Id users\t 30910\n",
      "\n",
      "Average interactions per user 0.678\n",
      "Average interactions per item 1.210\n",
      "\n",
      "Sparsity 99.995559 %\n"
     ]
    }
   ],
   "source": [
    "# NOT TRUE, HAVE TO MERGE LISTS (ITEM+ITEM+ITEM & USER+USER)\n",
    "\n",
    "userList_unique = list(set(userList))\n",
    "itemList_unique = list(set(itemList))\n",
    "\n",
    "numUsers = len(userList_unique)\n",
    "numItems = len(itemList_unique)\n",
    "\n",
    "print (\"Number of items\\t {}, Number of users\\t {}\".format(numItems, numUsers))\n",
    "print (\"Max ID items\\t {}, Max Id users\\t {}\\n\".format(max(itemList_unique), max(userList_unique)))\n",
    "print (\"Average interactions per user {:.3f}\".format(numberInteractions/numUsers))\n",
    "print (\"Average interactions per item {:.3f}\\n\".format(numberInteractions/numItems))\n",
    "\n",
    "print (\"Sparsity {:.6f} %\".format((1-float(numberInteractions)/(numItems*numUsers))*100))"
   ]
  },
  {
   "cell_type": "code",
   "execution_count": 3,
   "metadata": {},
   "outputs": [
    {
     "data": {
      "text/plain": [
       "<30911x18495 sparse matrix of type '<class 'numpy.float64'>'\n",
       "\twith 398636 stored elements in COOrdinate format>"
      ]
     },
     "execution_count": 3,
     "metadata": {},
     "output_type": "execute_result"
    }
   ],
   "source": [
    "import scipy.sparse as sps\n",
    "\n",
    "URM_all = sps.coo_matrix((interactedList, (userList, itemList)))\n",
    "\n",
    "URM_all"
   ]
  },
  {
   "cell_type": "code",
   "execution_count": 4,
   "metadata": {},
   "outputs": [
    {
     "data": {
      "text/plain": [
       "<30911x18495 sparse matrix of type '<class 'numpy.float64'>'\n",
       "\twith 398636 stored elements in Compressed Sparse Row format>"
      ]
     },
     "execution_count": 4,
     "metadata": {},
     "output_type": "execute_result"
    }
   ],
   "source": [
    "URM_all.tocsr()"
   ]
  },
  {
   "cell_type": "code",
   "execution_count": 5,
   "metadata": {},
   "outputs": [
    {
     "data": {
      "text/plain": [
       "matrix([[ 1,  0, 22, ...,  3,  2,  4]], dtype=int32)"
      ]
     },
     "execution_count": 5,
     "metadata": {},
     "output_type": "execute_result"
    }
   ],
   "source": [
    "import numpy as np\n",
    "\n",
    "itemPopularity = (URM_all>0).sum(axis=0)\n",
    "itemPopularity"
   ]
  },
  {
   "cell_type": "code",
   "execution_count": 6,
   "metadata": {},
   "outputs": [
    {
     "data": {
      "text/plain": [
       "array([ 1,  0, 22, ...,  3,  2,  4], dtype=int32)"
      ]
     },
     "execution_count": 6,
     "metadata": {},
     "output_type": "execute_result"
    }
   ],
   "source": [
    "\n",
    "itemPopularity = np.array(itemPopularity).squeeze()\n",
    "itemPopularity"
   ]
  },
  {
   "cell_type": "code",
   "execution_count": 7,
   "metadata": {},
   "outputs": [
    {
     "data": {
      "text/plain": [
       "array([  0,   0,   0, ..., 864, 888, 899], dtype=int32)"
      ]
     },
     "execution_count": 7,
     "metadata": {},
     "output_type": "execute_result"
    }
   ],
   "source": [
    "\n",
    "itemPopularity = np.sort(itemPopularity)\n",
    "itemPopularity"
   ]
  },
  {
   "cell_type": "code",
   "execution_count": 8,
   "metadata": {},
   "outputs": [
    {
     "data": {
      "text/plain": [
       "array([ True,  True,  True, ..., False,  True, False])"
      ]
     },
     "execution_count": 8,
     "metadata": {},
     "output_type": "execute_result"
    }
   ],
   "source": [
    "train_test_split = 0.80\n",
    "\n",
    "numInteractions = URM_all.nnz\n",
    "\n",
    "\n",
    "train_mask = np.random.choice([True,False], numInteractions, p=[train_test_split, 1-train_test_split])\n",
    "train_mask"
   ]
  },
  {
   "cell_type": "code",
   "execution_count": 9,
   "metadata": {},
   "outputs": [
    {
     "data": {
      "text/plain": [
       "<30911x18495 sparse matrix of type '<class 'numpy.float64'>'\n",
       "\twith 318907 stored elements in Compressed Sparse Row format>"
      ]
     },
     "execution_count": 9,
     "metadata": {},
     "output_type": "execute_result"
    }
   ],
   "source": [
    "userList = np.array(userList)\n",
    "itemList = np.array(itemList)\n",
    "interactedList = np.array(interactedList)\n",
    "\n",
    "\n",
    "URM_train = sps.coo_matrix((interactedList[train_mask], (userList[train_mask], itemList[train_mask])))\n",
    "URM_train = URM_train.tocsr()\n",
    "URM_train"
   ]
  },
  {
   "cell_type": "code",
   "execution_count": 10,
   "metadata": {},
   "outputs": [
    {
     "data": {
      "text/plain": [
       "<30911x18494 sparse matrix of type '<class 'numpy.float64'>'\n",
       "\twith 79729 stored elements in Compressed Sparse Row format>"
      ]
     },
     "execution_count": 10,
     "metadata": {},
     "output_type": "execute_result"
    }
   ],
   "source": [
    "test_mask = np.logical_not(train_mask)\n",
    "\n",
    "URM_test = sps.coo_matrix((interactedList[test_mask], (userList[test_mask], itemList[test_mask])))\n",
    "URM_test = URM_test.tocsr()\n",
    "URM_test"
   ]
  },
  {
   "cell_type": "code",
   "execution_count": 11,
   "metadata": {},
   "outputs": [
    {
     "data": {
      "text/plain": [
       "1"
      ]
     },
     "execution_count": 11,
     "metadata": {},
     "output_type": "execute_result"
    }
   ],
   "source": [
    "user_id = userList_unique[1]\n",
    "user_id"
   ]
  },
  {
   "cell_type": "code",
   "execution_count": 12,
   "metadata": {},
   "outputs": [
    {
     "data": {
      "text/plain": [
       "array([ 3537, 17587])"
      ]
     },
     "execution_count": 12,
     "metadata": {},
     "output_type": "execute_result"
    }
   ],
   "source": [
    "relevant_items = URM_test[user_id].indices\n",
    "relevant_items"
   ]
  },
  {
   "cell_type": "code",
   "execution_count": 13,
   "metadata": {},
   "outputs": [],
   "source": [
    "# PRECISION  how many of the recommended items are relevant\n",
    "\n",
    "def precision(recommended_items, relevant_items):\n",
    "    \n",
    "    is_relevant = np.in1d(recommended_items, relevant_items, assume_unique=True)\n",
    "    \n",
    "    precision_score = np.sum(is_relevant, dtype=np.float32) / len(is_relevant)\n",
    "    \n",
    "    return precision_score"
   ]
  },
  {
   "cell_type": "code",
   "execution_count": 14,
   "metadata": {},
   "outputs": [],
   "source": [
    "# RECALL how many of the relevant items I was able to recommend\n",
    "\n",
    "def recall(recommended_items, relevant_items):\n",
    "    \n",
    "    is_relevant = np.in1d(recommended_items, relevant_items, assume_unique=True)\n",
    "    \n",
    "    recall_score = np.sum(is_relevant, dtype=np.float32) / relevant_items.shape[0]\n",
    "    \n",
    "    return recall_score"
   ]
  },
  {
   "cell_type": "code",
   "execution_count": 15,
   "metadata": {},
   "outputs": [],
   "source": [
    "# Mean Average Precision\n",
    "\n",
    "def MAP(recommended_items, relevant_items):\n",
    "   \n",
    "    is_relevant = np.in1d(recommended_items, relevant_items, assume_unique=True)\n",
    "    \n",
    "    # Cumulative sum: precision at 1, at 2, at 3 ...\n",
    "    p_at_k = is_relevant * np.cumsum(is_relevant, dtype=np.float32) / (1 + np.arange(is_relevant.shape[0]))\n",
    "    \n",
    "    map_score = np.sum(p_at_k) / np.min([relevant_items.shape[0], is_relevant.shape[0]])\n",
    "\n",
    "    return map_score"
   ]
  },
  {
   "cell_type": "code",
   "execution_count": 16,
   "metadata": {},
   "outputs": [
    {
     "name": "stdout",
     "output_type": "stream",
     "text": [
      "User data, ID: min 0, max 30910, unique 27255, missig 11.82 %\n",
      "Item data, ID: min 0, max 18494, unique 15277, missig 17.39 %\n"
     ]
    }
   ],
   "source": [
    "# PRACTICE 3\n",
    "\n",
    "def list_ID_stats(ID_list, label):\n",
    "    \n",
    "    min_val = min(ID_list)\n",
    "    max_val = max(ID_list)\n",
    "    unique_val = len(set(ID_list))\n",
    "    missing_val = 1 - unique_val/(max_val - min_val)\n",
    "\n",
    "    print(\"{} data, ID: min {}, max {}, unique {}, missig {:.2f} %\".format(label, min_val, max_val, unique_val, missing_val*100))\n",
    "\n",
    "    \n",
    "    \n",
    "list_ID_stats(userList, \"User\")\n",
    "list_ID_stats(itemList, \"Item\")"
   ]
  },
  {
   "cell_type": "code",
   "execution_count": 17,
   "metadata": {},
   "outputs": [
    {
     "data": {
      "text/plain": [
       "<18495x2011 sparse matrix of type '<class 'numpy.float64'>'\n",
       "\twith 18495 stored elements in Compressed Sparse Row format>"
      ]
     },
     "execution_count": 17,
     "metadata": {},
     "output_type": "execute_result"
    }
   ],
   "source": [
    "n_items = URM_all.shape[1]\n",
    "#n_tags = max(classList) + 1\n",
    "\n",
    "#ICM_shape = (n_items, n_tags)\n",
    "\n",
    "ones = np.ones(len(classList))\n",
    "\n",
    "#ICM_all = sps.coo_matrix((ones, (itemClassList, classList)), shape = ICM_shape)\n",
    "\n",
    "ICM_all = sps.coo_matrix((ones, (itemClassList, classList)))\n",
    "ICM_all = ICM_all.tocsr()\n",
    "\n",
    "ICM_all\n"
   ]
  },
  {
   "cell_type": "code",
   "execution_count": 18,
   "metadata": {},
   "outputs": [
    {
     "name": "stdout",
     "output_type": "stream",
     "text": [
      "30317\n",
      "26609\n"
     ]
    }
   ],
   "source": [
    "############################################################################ CREATE UCM\n",
    "from shutil import copyfile\n",
    "\n",
    "copyfile('D:/JupyterFolder/Data/empty.csv', 'D:/JupyterFolder/Data/data_UCM_Mod.csv')\n",
    "\n",
    "maxx=len(userAgeList)\n",
    "for u in range(0,maxx):\n",
    "    with open('D:/JupyterFolder/Data/data_UCM_Mod.csv','a') as fd:\n",
    "        fd.write(str(userAgeList[u])+','+str(ageList[u])+',0\\n')\n",
    "        \n",
    "print(maxx)        \n",
    "\n",
    "maxx=len(userGeoList)\n",
    "for u in range(0,maxx):\n",
    "    with open('D:/JupyterFolder/Data/data_UCM_Mod.csv','a') as fd:\n",
    "        fd.write(str(userGeoList[u])+','+str(geoList[u])+',1\\n')\n",
    "print(maxx)       "
   ]
  },
  {
   "cell_type": "code",
   "execution_count": 19,
   "metadata": {},
   "outputs": [
    {
     "name": "stdout",
     "output_type": "stream",
     "text": [
      "56926\n",
      "26610\n",
      "30318\n"
     ]
    }
   ],
   "source": [
    "def file_len(fname):\n",
    "    with open(fname) as f:\n",
    "        for i, l in enumerate(f):\n",
    "            pass\n",
    "    return i + 1\n",
    "\n",
    "print(file_len('D:\\JupyterFolder\\Data\\data_UCM_Mod.csv'))\n",
    "print(file_len('D:\\JupyterFolder\\Data\\data_UCM_region.csv'))\n",
    "print(file_len('D:\\JupyterFolder\\Data\\data_UCM_age.csv'))"
   ]
  },
  {
   "cell_type": "code",
   "execution_count": 20,
   "metadata": {},
   "outputs": [],
   "source": [
    "################################ DIVIDE FILE\n",
    "def rowSplit2 (rowString):\n",
    "    \n",
    "    split = rowString.split(\",\")\n",
    "    split[2] = split[2].replace(\"\\n\",\"\")\n",
    "    \n",
    "    split[0] = int(split[0])\n",
    "    split[1] = int(split[1])\n",
    "    split[2] = int(split[2])\n",
    "    \n",
    "    result = tuple(split)\n",
    "    \n",
    "    return result\n",
    "\n",
    "\n",
    "UCMMod_file = open('D:/JupyterFolder/Data/data_UCM_Mod.csv', 'r')\n",
    "UCMMod_file.readline()\n",
    "\n",
    "UCMMod_tuples = []\n",
    "\n",
    "for line in UCMMod_file:\n",
    "   UCMMod_tuples.append(rowSplit2 (line))\n",
    "\n",
    "userUCM, valuesUCM, typeUCM = zip(*UCMMod_tuples) ### PERSON, CHARACTERISTIC, AGE 0 / REGION 1\n",
    "\n",
    "userUCM = list(userUCM)\n",
    "valuesUCM = list(valuesUCM)\n",
    "typeUCM = list(typeUCM)\n",
    "############################################"
   ]
  },
  {
   "cell_type": "code",
   "execution_count": 21,
   "metadata": {},
   "outputs": [
    {
     "data": {
      "text/plain": [
       "int"
      ]
     },
     "execution_count": 21,
     "metadata": {},
     "output_type": "execute_result"
    }
   ],
   "source": [
    "type(typeUCM[0])"
   ]
  },
  {
   "cell_type": "code",
   "execution_count": 22,
   "metadata": {},
   "outputs": [
    {
     "data": {
      "text/plain": [
       "<30911x2 sparse matrix of type '<class 'numpy.int32'>'\n",
       "\twith 56691 stored elements in Compressed Sparse Row format>"
      ]
     },
     "execution_count": 22,
     "metadata": {},
     "output_type": "execute_result"
    }
   ],
   "source": [
    "ones = np.ones(len(classList))\n",
    "\n",
    "UCM_all = sps.coo_matrix((valuesUCM, (userUCM, typeUCM)))\n",
    "UCM_all = UCM_all.tocsr()\n",
    "\n",
    "UCM_all"
   ]
  },
  {
   "cell_type": "code",
   "execution_count": 23,
   "metadata": {},
   "outputs": [],
   "source": [
    "import numpy as np\n",
    "import scipy.sparse as sps\n",
    "from Data_manager.IncrementalSparseMatrix import IncrementalSparseMatrix\n",
    "\n",
    "\n",
    "\n",
    "\n",
    "def split_train_leave_k_out_user_wise(URM, k_out = 1, use_validation_set = True, leave_random_out = True):\n",
    "    \"\"\"\n",
    "    The function splits an URM in two matrices selecting the k_out interactions one user at a time\n",
    "    :param URM:\n",
    "    :param k_out:\n",
    "    :param use_validation_set:\n",
    "    :param leave_random_out:\n",
    "    :return:\n",
    "    \"\"\"\n",
    "\n",
    "    assert k_out > 0, \"k_out must be a value greater than 0, provided was '{}'\".format(k_out)\n",
    "\n",
    "    URM = sps.csr_matrix(URM)\n",
    "    n_users, n_items = URM.shape\n",
    "\n",
    "\n",
    "    URM_train_builder = IncrementalSparseMatrix(auto_create_row_mapper=False, n_rows = n_users,\n",
    "                                        auto_create_col_mapper=False, n_cols = n_items)\n",
    "\n",
    "    URM_test_builder = IncrementalSparseMatrix(auto_create_row_mapper=False, n_rows = n_users,\n",
    "                                        auto_create_col_mapper=False, n_cols = n_items)\n",
    "\n",
    "    if use_validation_set:\n",
    "         URM_validation_builder = IncrementalSparseMatrix(auto_create_row_mapper=False, n_rows = n_users,\n",
    "                                                          auto_create_col_mapper=False, n_cols = n_items)\n",
    "\n",
    "\n",
    "\n",
    "    for user_id in range(n_users):\n",
    "\n",
    "        start_user_position = URM.indptr[user_id]\n",
    "        end_user_position = URM.indptr[user_id+1]\n",
    "\n",
    "        user_profile = URM.indices[start_user_position:end_user_position]\n",
    "\n",
    "\n",
    "        if leave_random_out:\n",
    "            indices_to_suffle = np.arange(len(user_profile), dtype=np.int)\n",
    "\n",
    "            np.random.shuffle(indices_to_suffle)\n",
    "\n",
    "            user_interaction_items = user_profile[indices_to_suffle]\n",
    "            user_interaction_data = URM.data[start_user_position:end_user_position][indices_to_suffle]\n",
    "\n",
    "        else:\n",
    "\n",
    "            # The first will be sampled so the last interaction must be the first one\n",
    "            interaction_position = URM.data[start_user_position:end_user_position]\n",
    "\n",
    "            sort_interaction_index = np.argsort(-interaction_position)\n",
    "\n",
    "            user_interaction_items = user_profile[sort_interaction_index]\n",
    "            user_interaction_data = URM.data[start_user_position:end_user_position][sort_interaction_index]\n",
    "\n",
    "\n",
    "\n",
    "        #Test interactions\n",
    "        user_interaction_items_test = user_interaction_items[0:k_out]\n",
    "        user_interaction_data_test = user_interaction_data[0:k_out]\n",
    "\n",
    "        URM_test_builder.add_data_lists([user_id]*len(user_interaction_items_test), user_interaction_items_test, user_interaction_data_test)\n",
    "\n",
    "\n",
    "        #validation interactions\n",
    "        if use_validation_set:\n",
    "            user_interaction_items_validation = user_interaction_items[k_out:k_out*2]\n",
    "            user_interaction_data_validation = user_interaction_data[k_out:k_out*2]\n",
    "\n",
    "            URM_validation_builder.add_data_lists([user_id]*k_out, user_interaction_items_validation, user_interaction_data_validation)\n",
    "\n",
    "\n",
    "        #Train interactions\n",
    "        user_interaction_items_train = user_interaction_items[k_out*2:]\n",
    "        user_interaction_data_train = user_interaction_data[k_out*2:]\n",
    "\n",
    "        URM_train_builder.add_data_lists([user_id]*len(user_interaction_items_train), user_interaction_items_train, user_interaction_data_train)\n",
    "\n",
    "\n",
    "\n",
    "    URM_train = URM_train_builder.get_SparseMatrix()\n",
    "    URM_test = URM_test_builder.get_SparseMatrix()\n",
    "\n",
    "\n",
    "    URM_train = sps.csr_matrix(URM_train)\n",
    "    user_no_item_train = np.sum(np.ediff1d(URM_train.indptr) == 0)\n",
    "\n",
    "    if user_no_item_train != 0:\n",
    "        print(\"Warning: {} ({:.2f} %) of {} users have no Train items\".format(user_no_item_train, user_no_item_train/n_users*100, n_users))\n",
    "\n",
    "\n",
    "\n",
    "    if use_validation_set:\n",
    "        URM_validation = URM_validation_builder.get_SparseMatrix()\n",
    "\n",
    "        URM_validation = sps.csr_matrix(URM_validation)\n",
    "        user_no_item_validation = np.sum(np.ediff1d(URM_validation.indptr) == 0)\n",
    "\n",
    "        if user_no_item_validation != 0:\n",
    "            print(\"Warning: {} ({:.2f} %) of {} users have no Validation items\".format(user_no_item_validation, user_no_item_validation/n_users*100, n_users))\n",
    "\n",
    "\n",
    "        return URM_train, URM_validation, URM_test\n",
    "\n",
    "\n",
    "    return URM_train, URM_test"
   ]
  },
  {
   "cell_type": "code",
   "execution_count": 24,
   "metadata": {},
   "outputs": [
    {
     "name": "stdout",
     "output_type": "stream",
     "text": [
      "Warning: 8392 (27.15 %) of 30911 users have no Train items\n"
     ]
    }
   ],
   "source": [
    "from Notebooks_utils.data_splitter import train_test_holdout\n",
    "\n",
    "\n",
    "URM_train, URM_test = split_train_leave_k_out_user_wise(URM_all, k_out = 1, use_validation_set = False, leave_random_out = True)\n",
    "URM_train = URM_train.tocsr()\n",
    "URM_train\n",
    "\n",
    "from Notebooks_utils.evaluation_function import evaluate_algorithm\n",
    "from Base.Similarity.Compute_Similarity_Python import Compute_Similarity_Python"
   ]
  },
  {
   "cell_type": "code",
   "execution_count": 25,
   "metadata": {},
   "outputs": [],
   "source": [
    "# PRACTICE 3BIS\n",
    "\n",
    "URM_all = sps.coo_matrix((interactedList, (userList, itemList)))\n",
    "URM_all = URM_all.tocsr()"
   ]
  },
  {
   "cell_type": "code",
   "execution_count": 26,
   "metadata": {},
   "outputs": [
    {
     "data": {
      "text/plain": [
       "<30911x15277 sparse matrix of type '<class 'numpy.float64'>'\n",
       "\twith 398636 stored elements in Compressed Sparse Row format>"
      ]
     },
     "execution_count": 26,
     "metadata": {},
     "output_type": "execute_result"
    }
   ],
   "source": [
    "# Cold items have no impact in the evaluation, since they have no interactions\n",
    "\n",
    "warm_items_mask = np.ediff1d(URM_all.tocsc().indptr) > 0\n",
    "warm_items = np.arange(URM_all.shape[1])[warm_items_mask]\n",
    "\n",
    "URM_all = URM_all[:, warm_items]\n",
    "URM_all"
   ]
  },
  {
   "cell_type": "code",
   "execution_count": 27,
   "metadata": {},
   "outputs": [
    {
     "name": "stdout",
     "output_type": "stream",
     "text": [
      "[ True False  True ...  True  True  True]\n"
     ]
    }
   ],
   "source": [
    "print(warm_items_mask)"
   ]
  },
  {
   "cell_type": "code",
   "execution_count": 28,
   "metadata": {},
   "outputs": [
    {
     "data": {
      "text/plain": [
       "<27255x15277 sparse matrix of type '<class 'numpy.float64'>'\n",
       "\twith 398636 stored elements in Compressed Sparse Row format>"
      ]
     },
     "execution_count": 28,
     "metadata": {},
     "output_type": "execute_result"
    }
   ],
   "source": [
    "# The same holds for users\n",
    "\n",
    "warm_users_mask = np.ediff1d(URM_all.tocsr().indptr) > 0\n",
    "warm_users = np.arange(URM_all.shape[0])[warm_users_mask]\n",
    "\n",
    "URM_all = URM_all[warm_users, :]\n",
    "URM_all\n"
   ]
  },
  {
   "cell_type": "code",
   "execution_count": 29,
   "metadata": {},
   "outputs": [
    {
     "name": "stdout",
     "output_type": "stream",
     "text": [
      "27255\n"
     ]
    }
   ],
   "source": [
    "print(len(warm_users))"
   ]
  },
  {
   "cell_type": "code",
   "execution_count": 30,
   "metadata": {},
   "outputs": [],
   "source": [
    "#  Item-based Collaborative Filtering\n",
    "\n",
    "class ItemCFKNNRecommender(object):\n",
    "    \n",
    "    def __init__(self, URM):\n",
    "        self.URM = URM\n",
    "        \n",
    "            \n",
    "    def fit(self, topK=50, shrink=100, normalize=True, similarity=\"cosine\"):\n",
    "        \n",
    "        similarity_object = Compute_Similarity_Python(self.URM, shrink=shrink, \n",
    "                                                  topK=topK, normalize=normalize, \n",
    "                                                  similarity = similarity)\n",
    "        \n",
    "        self.W_sparse = similarity_object.compute_similarity()\n",
    "\n",
    "        \n",
    "    def recommend(self, user_id, at=None, exclude_seen=True):\n",
    "        # compute the scores using the dot product\n",
    "        user_profile = self.URM[user_id]\n",
    "        scores = user_profile.dot(self.W_sparse).toarray().ravel()\n",
    "\n",
    "        if exclude_seen:\n",
    "            scores = self.filter_seen(user_id, scores)\n",
    "\n",
    "        # rank items\n",
    "        ranking = scores.argsort()[::-1]\n",
    "            \n",
    "        return ranking[:at]\n",
    "    \n",
    "    \n",
    "    def filter_seen(self, user_id, scores):\n",
    "\n",
    "        start_pos = self.URM.indptr[user_id]\n",
    "        end_pos = self.URM.indptr[user_id+1]\n",
    "\n",
    "        user_profile = self.URM.indices[start_pos:end_pos]\n",
    "        \n",
    "        scores[user_profile] = -np.inf\n",
    "\n",
    "        return scores"
   ]
  },
  {
   "cell_type": "code",
   "execution_count": 31,
   "metadata": {},
   "outputs": [],
   "source": [
    "# x_tick = [40, 50, 60]\n",
    "# MAP_per_shrinkage = []\n",
    "\n",
    "# for shrink in x_tick:\n",
    "    \n",
    "#     recommender = ItemCFKNNRecommender(URM_train)\n",
    "#     recommender.fit(shrink=shrink, topK=100)\n",
    "    \n",
    "#     result_dict = evaluate_algorithm(URM_test, recommender)\n",
    "#     MAP_per_shrinkage.append(result_dict[\"MAP\"])"
   ]
  },
  {
   "cell_type": "code",
   "execution_count": 32,
   "metadata": {},
   "outputs": [],
   "source": [
    "# recommender = ItemCFKNNRecommender(URM_train)\n",
    "# recommender.fit(shrink=25, topK=110)\n",
    "  \n",
    "# result_dict = evaluate_algorithm(URM_test, recommender)\n",
    "# MAP_per_shrinkage.append(result_dict[\"MAP\"])"
   ]
  },
  {
   "cell_type": "code",
   "execution_count": 33,
   "metadata": {},
   "outputs": [],
   "source": [
    "# import time\n",
    "# n_users_to_test = 1000\n",
    "\n",
    "# start_time = time.time()\n",
    "\n",
    "# for user_id in range(n_users_to_test):\n",
    "#     recommender.recommend(user_id, at=5)\n",
    "    \n",
    "# end_time = time.time()\n",
    "\n",
    "# print(\"Reasonable implementation speed is {:.2f} usr/sec\".format(n_users_to_test/(end_time-start_time)))"
   ]
  },
  {
   "cell_type": "code",
   "execution_count": 34,
   "metadata": {},
   "outputs": [],
   "source": [
    "# User-based Collaborative Filtering\n",
    "\n",
    "class UserCFKNNRecommender(object):\n",
    "    \n",
    "    def __init__(self, URM):\n",
    "        self.URM = URM\n",
    "        \n",
    "            \n",
    "    def fit(self, topK=50, shrink=100, normalize=True, similarity=\"cosine\"):\n",
    "        \n",
    "        similarity_object = Compute_Similarity_Python(self.URM.T, shrink=shrink, \n",
    "                                                  topK=topK, normalize=normalize, \n",
    "                                                  similarity = similarity)\n",
    "        \n",
    "        self.W_sparse = similarity_object.compute_similarity()\n",
    "\n",
    "        \n",
    "    def recommend(self, user_id, at=None, exclude_seen=True):\n",
    "        # compute the scores using the dot product\n",
    "        \n",
    "        scores = self.W_sparse[user_id, :].dot(self.URM).toarray().ravel()\n",
    "\n",
    "        if exclude_seen:\n",
    "            scores = self.filter_seen(user_id, scores)\n",
    "\n",
    "        # rank items\n",
    "        ranking = scores.argsort()[::-1]\n",
    "                    \n",
    "        return ranking[:at]\n",
    "    \n",
    "    \n",
    "    def filter_seen(self, user_id, scores):\n",
    "\n",
    "        start_pos = self.URM.indptr[user_id]\n",
    "        end_pos = self.URM.indptr[user_id+1]\n",
    "\n",
    "        user_profile = self.URM.indices[start_pos:end_pos]\n",
    "        \n",
    "        scores[user_profile] = -np.inf\n",
    "\n",
    "        return scores"
   ]
  },
  {
   "cell_type": "code",
   "execution_count": 35,
   "metadata": {},
   "outputs": [],
   "source": [
    "# recommender = UserCFKNNRecommender(URM_train)\n",
    "# recommender.fit(shrink=0.0, topK=50)"
   ]
  },
  {
   "cell_type": "code",
   "execution_count": 36,
   "metadata": {},
   "outputs": [],
   "source": [
    "newUsers = []\n",
    "newUsers = list(set(finalUsers) - set(userList))"
   ]
  },
  {
   "cell_type": "code",
   "execution_count": 37,
   "metadata": {},
   "outputs": [
    {
     "name": "stdout",
     "output_type": "stream",
     "text": [
      "3218\n"
     ]
    }
   ],
   "source": [
    "newItems = []\n",
    "newItems = list(set(itemClassList) - set(itemList))\n",
    "print(len(newItems))"
   ]
  },
  {
   "cell_type": "code",
   "execution_count": 38,
   "metadata": {},
   "outputs": [],
   "source": [
    "############################################################################\n",
    "from shutil import copyfile\n",
    "\n",
    "copyfile('D:/JupyterFolder/Data/data_train.csv', 'D:/JupyterFolder/Data/data_train_mod.csv')\n",
    "\n",
    "for u in newUsers:\n",
    "\n",
    "    with open('D:/JupyterFolder/Data/data_train_mod.csv','a') as fd:\n",
    "        fd.write(str(u)+',0,0.0\\n')\n",
    "        \n",
    "for i in newItems:\n",
    "\n",
    "    with open('D:/JupyterFolder/Data/data_train_mod.csv','a') as fd:\n",
    "        fd.write('0,'+str(i)+',0.0\\n')        "
   ]
  },
  {
   "cell_type": "code",
   "execution_count": 39,
   "metadata": {},
   "outputs": [],
   "source": [
    "################################ DIVIDE FILE ITEM USER\n",
    "\n",
    "userItemMod_file = open('D:/JupyterFolder/Data/data_train_mod.csv', 'r')\n",
    "userItemMod_file.readline()\n",
    "\n",
    "userItemMod_tuples = []\n",
    "\n",
    "for line in userItemMod_file:\n",
    "   userItemMod_tuples.append(rowSplit (line))\n",
    "\n",
    "userListMod, itemListMod, interactedListMod = zip(*userItemMod_tuples)\n",
    "\n",
    "userListMod = list(userListMod)\n",
    "itemListMod = list(itemListMod)\n",
    "interactedListMod = list(interactedListMod)"
   ]
  },
  {
   "cell_type": "code",
   "execution_count": 40,
   "metadata": {},
   "outputs": [
    {
     "data": {
      "text/plain": [
       "<30911x18495 sparse matrix of type '<class 'numpy.float64'>'\n",
       "\twith 405510 stored elements in COOrdinate format>"
      ]
     },
     "execution_count": 40,
     "metadata": {},
     "output_type": "execute_result"
    }
   ],
   "source": [
    "URM_allMod = sps.coo_matrix((interactedListMod, (userListMod, itemListMod)))\n",
    "\n",
    "URM_allMod"
   ]
  },
  {
   "cell_type": "code",
   "execution_count": 41,
   "metadata": {},
   "outputs": [],
   "source": [
    "# n_users_to_test = 1000\n",
    "\n",
    "# start_time = time.time()\n",
    "\n",
    "# for user_id in range(n_users_to_test):\n",
    "#     recommender.recommend(user_id, at=5)\n",
    "    \n",
    "# end_time = time.time()\n",
    "\n",
    "# print(\"Reasonable implementation speed is {:.2f} usr/sec\".format(n_users_to_test/(end_time-start_time)))"
   ]
  },
  {
   "cell_type": "code",
   "execution_count": 42,
   "metadata": {},
   "outputs": [
    {
     "name": "stdout",
     "output_type": "stream",
     "text": [
      "Warning: 4736 (17.38 %) of 27255 users have no Train items\n"
     ]
    }
   ],
   "source": [
    "# Split the --NEW-- URM for train and test\n",
    "\n",
    "from Notebooks_utils.data_splitter import train_test_holdout\n",
    "\n",
    "URM_train, URM_test = split_train_leave_k_out_user_wise(URM_all, k_out = 1, use_validation_set = False, leave_random_out = True)\n",
    "URM_train = URM_train.tocsr()\n",
    "URM_train\n",
    "\n",
    "from Notebooks_utils.evaluation_function import evaluate_algorithm\n",
    "from Base.Similarity.Compute_Similarity_Python import Compute_Similarity_Python"
   ]
  },
  {
   "cell_type": "code",
   "execution_count": 43,
   "metadata": {},
   "outputs": [
    {
     "name": "stdout",
     "output_type": "stream",
     "text": [
      "30911\n",
      "18495\n"
     ]
    }
   ],
   "source": [
    "print(URM_allMod.shape[0])\n",
    "print(URM_allMod.shape[1])"
   ]
  },
  {
   "cell_type": "code",
   "execution_count": 44,
   "metadata": {},
   "outputs": [
    {
     "name": "stdout",
     "output_type": "stream",
     "text": [
      "30911\n",
      "15277\n"
     ]
    }
   ],
   "source": [
    "###################\n",
    "\n",
    "warm_items = np.arange(URM_allMod.shape[1])\n",
    "URM_allMod = URM_allMod.tocsr()\n",
    "\n",
    "x = list(set(warm_items)- set(newItems))\n",
    "URM_allMod = URM_allMod[: , x]\n",
    "\n",
    "print(URM_allMod.shape[0])\n",
    "print(URM_allMod.shape[1])\n",
    "\n",
    "\n",
    "################"
   ]
  },
  {
   "cell_type": "code",
   "execution_count": 45,
   "metadata": {},
   "outputs": [
    {
     "name": "stdout",
     "output_type": "stream",
     "text": [
      "Warning: 8392 (27.15 %) of 30911 users have no Train items\n"
     ]
    }
   ],
   "source": [
    "# Split the --NEW-- URM for train and test -----------------------------MOD\n",
    "from Notebooks_utils.data_splitter import train_test_holdout\n",
    "\n",
    "URM_trainMod, URM_testMod = split_train_leave_k_out_user_wise(URM_allMod, k_out = 1, use_validation_set = False, leave_random_out = True)\n",
    "URM_trainMod = URM_trainMod.tocsr()\n",
    "URM_trainMod\n",
    "\n",
    "from Notebooks_utils.evaluation_function import evaluate_algorithm\n",
    "from Base.Similarity.Compute_Similarity_Python import Compute_Similarity_Python"
   ]
  },
  {
   "cell_type": "code",
   "execution_count": 46,
   "metadata": {},
   "outputs": [],
   "source": [
    "URM_allMod = URM_allMod.tocsr()"
   ]
  },
  {
   "cell_type": "code",
   "execution_count": 47,
   "metadata": {},
   "outputs": [],
   "source": [
    "import matplotlib.pyplot as pyplot"
   ]
  },
  {
   "cell_type": "code",
   "execution_count": 48,
   "metadata": {},
   "outputs": [],
   "source": [
    "###################################################################################"
   ]
  },
  {
   "cell_type": "code",
   "execution_count": 49,
   "metadata": {},
   "outputs": [
    {
     "name": "stdout",
     "output_type": "stream",
     "text": [
      "Similarity column 15277 ( 100 % ), 1357.62 column/sec, elapsed time 0.19 min\n"
     ]
    }
   ],
   "source": [
    "collaborative_recommenderItemBased = ItemCFKNNRecommender(URM_allMod)\n",
    "collaborative_recommenderItemBased.fit(shrink=22, topK=115)"
   ]
  },
  {
   "cell_type": "code",
   "execution_count": 50,
   "metadata": {},
   "outputs": [],
   "source": [
    "# collaborative_recommenderUserBased = UserCFKNNRecommender(URM_allMod)\n",
    "# collaborative_recommenderUserBased.fit(shrink=10, topK=500)"
   ]
  },
  {
   "cell_type": "code",
   "execution_count": 51,
   "metadata": {},
   "outputs": [],
   "source": [
    "# print(len(finalUsers))\n",
    "# print(len(userListMod))\n",
    "# print(URM_trainMod.shape[0]) # rows of URM_train\n",
    "# print(URM_train.shape[1])\n",
    "# print(URM_all.shape[0]) # rows of URM_all\n",
    "# print(URM_all.shape[1])\n",
    "# print(URM_allMod.shape[0]) # rows of URM_allMod\n",
    "# print(URM_allMod.shape[1])"
   ]
  },
  {
   "cell_type": "code",
   "execution_count": 52,
   "metadata": {},
   "outputs": [
    {
     "name": "stdout",
     "output_type": "stream",
     "text": [
      "Warning: 11826 (38.26 %) of 30911 users have no Train items\n"
     ]
    }
   ],
   "source": [
    "########################################################################################################### TUNING\n",
    "\n",
    "from Notebooks_utils.data_splitter import train_test_holdout\n",
    "\n",
    "URM_trainMod, URM_validationMod = split_train_leave_k_out_user_wise(URM_trainMod, k_out = 1, use_validation_set = False, leave_random_out = True)"
   ]
  },
  {
   "cell_type": "code",
   "execution_count": 53,
   "metadata": {},
   "outputs": [],
   "source": [
    "from Base.Evaluation.Evaluator import EvaluatorHoldout\n",
    "\n",
    "evaluator_validation = EvaluatorHoldout(URM_validationMod, cutoff_list=[5])\n",
    "evaluator_test = EvaluatorHoldout(URM_testMod, cutoff_list=[5, 10])"
   ]
  },
  {
   "cell_type": "code",
   "execution_count": 54,
   "metadata": {},
   "outputs": [
    {
     "name": "stderr",
     "output_type": "stream",
     "text": [
      "D:\\Python\\lib\\site-packages\\sklearn\\externals\\joblib\\__init__.py:15: DeprecationWarning: sklearn.externals.joblib is deprecated in 0.21 and will be removed in 0.23. Please import this functionality directly from joblib, which can be installed with: pip install joblib. If this warning is raised when loading pickled models, you may need to re-serialize those models with scikit-learn 0.21+.\n",
      "  warnings.warn(msg, category=DeprecationWarning)\n"
     ]
    }
   ],
   "source": [
    "from KNN.ItemKNNCFRecommender import ItemKNNCFRecommender\n",
    "from ParameterTuning.SearchBayesianSkopt import SearchBayesianSkopt\n",
    "\n",
    "\n",
    "recommender_class = ItemKNNCFRecommender\n",
    "\n",
    "parameterSearch = SearchBayesianSkopt(recommender_class,\n",
    "                                 evaluator_validation=evaluator_validation,\n",
    "                                 evaluator_test=evaluator_test)"
   ]
  },
  {
   "cell_type": "code",
   "execution_count": 55,
   "metadata": {},
   "outputs": [],
   "source": [
    "from ParameterTuning.SearchAbstractClass import SearchInputRecommenderArgs\n",
    "from skopt.space import Real, Integer, Categorical\n",
    "\n",
    "hyperparameters_range_dictionary = {}\n",
    "hyperparameters_range_dictionary[\"topK\"] = Integer(100, 125)\n",
    "hyperparameters_range_dictionary[\"shrink\"] = Integer(18, 36)\n",
    "hyperparameters_range_dictionary[\"similarity\"] = Categorical([\"cosine\"])\n",
    "hyperparameters_range_dictionary[\"normalize\"] = Categorical([True, False])\n",
    "    \n",
    "    \n",
    "recommender_input_args = SearchInputRecommenderArgs(\n",
    "    CONSTRUCTOR_POSITIONAL_ARGS = [URM_train],\n",
    "    CONSTRUCTOR_KEYWORD_ARGS = {},\n",
    "    FIT_POSITIONAL_ARGS = [],\n",
    "    FIT_KEYWORD_ARGS = {}\n",
    ")\n",
    "\n",
    "\n",
    "output_folder_path = \"result_experiments/\"\n",
    "\n",
    "import os\n",
    "\n",
    "# If directory does not exist, create\n",
    "if not os.path.exists(output_folder_path):\n",
    "    os.makedirs(output_folder_path)"
   ]
  },
  {
   "cell_type": "code",
   "execution_count": 56,
   "metadata": {},
   "outputs": [],
   "source": [
    "# n_cases = 6\n",
    "# metric_to_optimize = \"MAP\"\n",
    "\n",
    "# parameterSearch.search(recommender_input_args,\n",
    "#                        parameter_search_space = hyperparameters_range_dictionary,\n",
    "#                        n_cases = n_cases,\n",
    "#                        n_random_starts = 1,\n",
    "#                        save_model = \"no\",\n",
    "#                        output_folder_path = output_folder_path,\n",
    "#                        output_file_name_root = recommender_class.RECOMMENDER_NAME,\n",
    "#                        metric_to_optimize = metric_to_optimize\n",
    "#                       )"
   ]
  },
  {
   "cell_type": "code",
   "execution_count": 57,
   "metadata": {},
   "outputs": [],
   "source": [
    "from Base.DataIO import DataIO\n",
    "\n",
    "data_loader = DataIO(folder_path = output_folder_path)\n",
    "search_metadata = data_loader.load_data(recommender_class.RECOMMENDER_NAME + \"_metadata200.zip\")"
   ]
  },
  {
   "cell_type": "code",
   "execution_count": 58,
   "metadata": {},
   "outputs": [],
   "source": [
    "# search_metadata"
   ]
  },
  {
   "cell_type": "code",
   "execution_count": 59,
   "metadata": {},
   "outputs": [
    {
     "data": {
      "text/plain": [
       "{'topK': 7, 'shrink': 42, 'similarity': 'cosine', 'normalize': True}"
      ]
     },
     "execution_count": 59,
     "metadata": {},
     "output_type": "execute_result"
    }
   ],
   "source": [
    "best_parameters = search_metadata[\"hyperparameters_best\"]\n",
    "best_parameters\n",
    "\n",
    "###########################################################################################################"
   ]
  },
  {
   "cell_type": "code",
   "execution_count": 60,
   "metadata": {},
   "outputs": [
    {
     "name": "stdout",
     "output_type": "stream",
     "text": [
      "Similarity column 15277 ( 100 % ), 1651.40 column/sec, elapsed time 0.15 min\n"
     ]
    }
   ],
   "source": [
    "collaborative_recommenderItemBased = ItemCFKNNRecommender(URM_trainMod)\n",
    "collaborative_recommenderItemBased.fit(shrink=42, topK=7)"
   ]
  },
  {
   "cell_type": "code",
   "execution_count": 61,
   "metadata": {},
   "outputs": [],
   "source": [
    "# result_dict = evaluate_algorithm(URM_testMod, collaborative_recommenderItemBased)"
   ]
  },
  {
   "cell_type": "code",
   "execution_count": 98,
   "metadata": {},
   "outputs": [
    {
     "name": "stdout",
     "output_type": "stream",
     "text": [
      "ItemKNNCFRecommender: URM Detected 11826 (38.26 %) cold users.\n",
      "ItemKNNCFRecommender: URM Detected 554 (3.63 %) cold items.\n",
      "Unable to load Cython Compute_Similarity, reverting to Python\n",
      "Similarity column 15277 ( 100 % ), 1633.80 column/sec, elapsed time 0.16 min\n",
      "P3alphaRecommender: URM Detected 11826 (38.26 %) cold users.\n",
      "P3alphaRecommender: URM Detected 554 (3.63 %) cold items.\n"
     ]
    }
   ],
   "source": [
    "itemKNNCF = ItemKNNCFRecommender(URM_trainMod)\n",
    "itemKNNCF.fit(topK = 22, shrink = 115, similarity = 'cosine')\n",
    "\n",
    "\n",
    "from GraphBased.P3alphaRecommender import P3alphaRecommender\n",
    "\n",
    "P3alpha = P3alphaRecommender(URM_trainMod)\n",
    "P3alpha.fit()"
   ]
  },
  {
   "cell_type": "code",
   "execution_count": 99,
   "metadata": {},
   "outputs": [
    {
     "data": {
      "text/plain": [
       "<15277x15277 sparse matrix of type '<class 'numpy.float32'>'\n",
       "\twith 313318 stored elements in Compressed Sparse Row format>"
      ]
     },
     "execution_count": 99,
     "metadata": {},
     "output_type": "execute_result"
    }
   ],
   "source": [
    "itemKNNCF.W_sparse"
   ]
  },
  {
   "cell_type": "code",
   "execution_count": 100,
   "metadata": {},
   "outputs": [
    {
     "data": {
      "text/plain": [
       "<15277x15277 sparse matrix of type '<class 'numpy.float32'>'\n",
       "\twith 592948 stored elements in Compressed Sparse Row format>"
      ]
     },
     "execution_count": 100,
     "metadata": {},
     "output_type": "execute_result"
    }
   ],
   "source": [
    "P3alpha.W_sparse"
   ]
  },
  {
   "cell_type": "code",
   "execution_count": 101,
   "metadata": {},
   "outputs": [],
   "source": [
    "from Base.Recommender_utils import check_matrix, similarityMatrixTopK\n",
    "from Base.BaseSimilarityMatrixRecommender import BaseItemSimilarityMatrixRecommender\n",
    "\n",
    "\n",
    "class ItemKNNSimilarityHybridRecommender(BaseItemSimilarityMatrixRecommender):\n",
    "    \"\"\" ItemKNNSimilarityHybridRecommender\n",
    "    Hybrid of two similarities S = S1*alpha + S2*(1-alpha)\n",
    "\n",
    "    \"\"\"\n",
    "\n",
    "    RECOMMENDER_NAME = \"ItemKNNSimilarityHybridRecommender\"\n",
    "\n",
    "\n",
    "    def __init__(self, URM_train, Similarity_1, Similarity_2, sparse_weights=True):\n",
    "        super(ItemKNNSimilarityHybridRecommender, self).__init__(URM_train)\n",
    "\n",
    "        if Similarity_1.shape != Similarity_2.shape:\n",
    "            raise ValueError(\"ItemKNNSimilarityHybridRecommender: similarities have different size, S1 is {}, S2 is {}\".format(\n",
    "                Similarity_1.shape, Similarity_2.shape\n",
    "            ))\n",
    "\n",
    "        # CSR is faster during evaluation\n",
    "        self.Similarity_1 = check_matrix(Similarity_1.copy(), 'csr')\n",
    "        self.Similarity_2 = check_matrix(Similarity_2.copy(), 'csr')\n",
    "\n",
    "\n",
    "    def fit(self, topK=100, alpha = 0.5):\n",
    "\n",
    "        self.topK = topK\n",
    "        self.alpha = alpha\n",
    "\n",
    "        W = self.Similarity_1*self.alpha + self.Similarity_2*(1-self.alpha)\n",
    "        self.W_sparse = similarityMatrixTopK(W, k=self.topK).tocsr()"
   ]
  },
  {
   "cell_type": "code",
   "execution_count": 102,
   "metadata": {},
   "outputs": [
    {
     "name": "stdout",
     "output_type": "stream",
     "text": [
      "ItemKNNSimilarityHybridRecommender: URM Detected 11826 (38.26 %) cold users.\n",
      "ItemKNNSimilarityHybridRecommender: URM Detected 554 (3.63 %) cold items.\n"
     ]
    }
   ],
   "source": [
    "hybridrecommender = ItemKNNSimilarityHybridRecommender(URM_trainMod, itemKNNCF.W_sparse, P3alpha.W_sparse)\n",
    "hybridrecommender.fit(alpha = 0.6)"
   ]
  },
  {
   "cell_type": "code",
   "execution_count": 103,
   "metadata": {},
   "outputs": [],
   "source": [
    "# evaluator_validation.evaluateRecommender(hybridrecommender)\n",
    "# ############################################################################"
   ]
  },
  {
   "cell_type": "code",
   "execution_count": 104,
   "metadata": {},
   "outputs": [
    {
     "name": "stdout",
     "output_type": "stream",
     "text": [
      "PureSVDRecommender: URM Detected 11826 (38.26 %) cold users.\n",
      "PureSVDRecommender: URM Detected 554 (3.63 %) cold items.\n",
      "PureSVDRecommender: Computing SVD decomposition...\n",
      "PureSVDRecommender: Computing SVD decomposition... Done!\n"
     ]
    }
   ],
   "source": [
    "from MatrixFactorization.PureSVDRecommender import PureSVDRecommender\n",
    "\n",
    "pureSVD = PureSVDRecommender(URM_trainMod)\n",
    "pureSVD.fit()\n",
    "\n",
    "user_id = 42"
   ]
  },
  {
   "cell_type": "code",
   "execution_count": 105,
   "metadata": {},
   "outputs": [
    {
     "data": {
      "text/plain": [
       "array([[0., 0., 0., ..., 0., 0., 0.]], dtype=float32)"
      ]
     },
     "execution_count": 105,
     "metadata": {},
     "output_type": "execute_result"
    }
   ],
   "source": [
    "item_scores = itemKNNCF._compute_item_score(user_id)\n",
    "item_scores"
   ]
  },
  {
   "cell_type": "code",
   "execution_count": 106,
   "metadata": {},
   "outputs": [],
   "source": [
    "# # NON VA\n",
    "# item_scores = pureSVD._compute_item_score(user_id)\n",
    "# item_scores"
   ]
  },
  {
   "cell_type": "code",
   "execution_count": 107,
   "metadata": {},
   "outputs": [],
   "source": [
    "# class ItemKNNScoresHybridRecommender(BaseItemSimilarityMatrixRecommender):\n",
    "#     \"\"\" ItemKNNScoresHybridRecommender\n",
    "#     Hybrid of two prediction scores R = R1*alpha + R2*(1-alpha)\n",
    "\n",
    "#     \"\"\"\n",
    "\n",
    "#     RECOMMENDER_NAME = \"ItemKNNScoresHybridRecommender\"\n",
    "\n",
    "\n",
    "#     def __init__(self, URM_train, Recommender_1, Recommender_2):\n",
    "#         super(ItemKNNScoresHybridRecommender, self).__init__(URM_train)\n",
    "\n",
    "#         self.URM_train = check_matrix(URM_train.copy(), 'csr')\n",
    "#         self.Recommender_1 = Recommender_1\n",
    "#         self.Recommender_2 = Recommender_2\n",
    "        \n",
    "        \n",
    "#     def fit(self, alpha = 0.5):\n",
    "\n",
    "#         self.alpha = alpha      \n",
    "\n",
    "\n",
    "#     def _compute_item_score(self, user_id_array, items_to_compute):\n",
    "        \n",
    "#         item_weights_1 = self.Recommender_1._compute_item_score(user_id_array)\n",
    "#         item_weights_2 = self.Recommender_2._compute_item_score(user_id_array)\n",
    "\n",
    "#         item_weights = item_weights_1*self.alpha + item_weights_2*(1-self.alpha)\n",
    "\n",
    "#         return item_weights"
   ]
  },
  {
   "cell_type": "code",
   "execution_count": 108,
   "metadata": {},
   "outputs": [],
   "source": [
    "# hybridrecommender = ItemKNNScoresHybridRecommender(URM_train, itemKNNCF, pureSVD)\n",
    "# hybridrecommender.fit(alpha = 0.5)\n",
    "\n",
    "# evaluator_validation.evaluateRecommender(hybridrecommender)"
   ]
  },
  {
   "cell_type": "code",
   "execution_count": 109,
   "metadata": {},
   "outputs": [
    {
     "name": "stdout",
     "output_type": "stream",
     "text": [
      "56925\n",
      "30316\n"
     ]
    }
   ],
   "source": [
    "count =0\n",
    "userAge1 = []\n",
    "userAge2 = []\n",
    "userAge3 = []\n",
    "userAge4 = []\n",
    "userAge5 = []\n",
    "userAge6 = []\n",
    "userAge7 = []\n",
    "userAge8 = []\n",
    "userAge9 = []\n",
    "userAge10 = []\n",
    "\n",
    "for x in typeUCM:\n",
    "    if x==0:  # AGE\n",
    "        if(valuesUCM[count] == 1):\n",
    "            userAge1.append(userUCM[count])\n",
    "        if(valuesUCM[count] == 2):\n",
    "            userAge2.append(userUCM[count])\n",
    "        if(valuesUCM[count] == 3):\n",
    "            userAge3.append(userUCM[count])\n",
    "        if(valuesUCM[count] == 4):\n",
    "            userAge4.append(userUCM[count])    \n",
    "        if(valuesUCM[count] == 5):\n",
    "            userAge5.append(userUCM[count])    \n",
    "        if(valuesUCM[count] == 6):\n",
    "            userAge6.append(userUCM[count])   \n",
    "        if(valuesUCM[count] == 7):\n",
    "            userAge7.append(userUCM[count])    \n",
    "        if(valuesUCM[count] == 8):\n",
    "            userAge8.append(userUCM[count]) \n",
    "        if(valuesUCM[count] == 9):\n",
    "            userAge9.append(userUCM[count])\n",
    "        if(valuesUCM[count] == 10):\n",
    "            userAge10.append(userUCM[count])\n",
    "    count = count + 1\n",
    "        \n",
    "print(len(userUCM))\n",
    "print(len(userAge1) + len(userAge2)+ len(userAge3)+len(userAge4) + len(userAge5)+ len(userAge6)+len(userAge7) + len(userAge8)+ len(userAge9)+ len(userAge10))\n",
    "\n",
    "\n",
    "\n",
    "############################################################\n",
    "# ageVal = [1] * len(userAge1)\n",
    "# ageType = [0] * len(userAge1)\n",
    "\n",
    "# URM_age1 = URM_allMod\n",
    "# URM_age1 = URM_age1[userAge1, :]\n",
    "# URM_age1 = URM_age1.tocsr()\n",
    "# ############################################################\n",
    "# ageVal = [2] * len(userAge2)\n",
    "# ageType = [0] * len(userAge2)\n",
    "\n",
    "# URM_age2 = URM_allMod\n",
    "# URM_age2 = URM_age2[userAge2, :]\n",
    "# URM_age2 = URM_age2.tocsr()\n",
    "# ############################################################\n",
    "# ageVal = [3] * len(userAge3)\n",
    "# ageType = [0] * len(userAge3)\n",
    "\n",
    "# URM_age3 = URM_allMod\n",
    "# URM_age3 = URM_age3[userAge3, :]\n",
    "# URM_age3 = URM_age3.tocsr()\n",
    "# ############################################################\n",
    "# ageVal = [4] * len(userAge4)\n",
    "# ageType = [0] * len(userAge4)\n",
    "\n",
    "# URM_age4 = URM_allMod\n",
    "# URM_age4 = URM_age4[userAge4, :]\n",
    "# URM_age4 = URM_age4.tocsr()\n",
    "# ############################################################\n",
    "# ageVal = [5] * len(userAge5)\n",
    "# ageType = [0] * len(userAge5)\n",
    "\n",
    "# URM_age5 = URM_allMod\n",
    "# URM_age5 = URM_age5[userAge5, :]\n",
    "# URM_age5 = URM_age5.tocsr()\n",
    "# ############################################################\n",
    "# ageVal = [6] * len(userAge6)\n",
    "# ageType = [0] * len(userAge6)\n",
    "\n",
    "# URM_age6 = URM_allMod\n",
    "# URM_age6 = URM_age6[userAge6, :]\n",
    "# URM_age6 = URM_age6.tocsr()\n",
    "# ############################################################\n",
    "# ageVal = [7] * len(userAge7)\n",
    "# ageType = [0] * len(userAge7)\n",
    "\n",
    "# URM_age7 = URM_allMod\n",
    "# URM_age7 = URM_age7[userAge7, :]\n",
    "# URM_age7 = URM_age7.tocsr()\n",
    "# ############################################################\n",
    "# ageVal = [8] * len(userAge8)\n",
    "# ageType = [0] * len(userAge8)\n",
    "\n",
    "# URM_age8 = URM_allMod\n",
    "# URM_age8 = URM_age8[userAge8, :]\n",
    "# URM_age8 = URM_age8.tocsr()\n",
    "# ############################################################\n",
    "# ageVal = [9] * len(userAge9)\n",
    "# ageType = [0] * len(userAge9)\n",
    "\n",
    "# URM_age9 = URM_allMod\n",
    "# URM_age9 = URM_age9[userAge9, :]\n",
    "# URM_age9 = URM_age9.tocsr()\n",
    "# ############################################################\n",
    "# ageVal = [10] * len(userAge10)\n",
    "# ageType = [0] * len(userAge10)\n",
    "\n",
    "# URM_age10 = URM_allMod\n",
    "# URM_age10 = URM_age10[userAge10, :]\n",
    "# URM_age10 = URM_age10.tocsr()\n",
    "\n",
    "# print(URM_age1)"
   ]
  },
  {
   "cell_type": "code",
   "execution_count": 110,
   "metadata": {},
   "outputs": [],
   "source": [
    "class TopPopRecommender(object):\n",
    "\n",
    "    def fit(URM_train, age=0):\n",
    "        \n",
    "        self.URM_train = URM_train\n",
    "        \n",
    "        itemPopularity = (URM_train>0).sum(axis=0) # ALL    \n",
    "        itemPopularity = np.array(itemPopularity).squeeze()\n",
    "\n",
    "        # We are not interested in sorting the popularity value,\n",
    "        # but to order the items according to it\n",
    "        self.popularItems = np.argsort(itemPopularity)\n",
    "        self.popularItems = np.flip(self.popularItems, axis = 0)\n",
    "    \n",
    "    \n",
    "    def recommend(self, user_id, at=5, remove_seen=True):\n",
    "\n",
    "        if remove_seen:\n",
    "            unseen_items_mask = np.in1d(self.popularItems, self.URM_train[user_id].indices,\n",
    "                                        assume_unique=True, invert = True)\n",
    "\n",
    "            unseen_items = self.popularItems[unseen_items_mask]\n",
    "\n",
    "            recommended_items = unseen_items[0:at]\n",
    "\n",
    "        else:\n",
    "            recommended_items = self.popularItems[0:at]\n",
    "            \n",
    "\n",
    "        return recommended_items\n",
    "    \n",
    "    def fit2(self, URM_train, age=0):\n",
    "        \n",
    "        self.URM_train = URM_train\n",
    "        \n",
    "        if(age==0):\n",
    "            itemPopularity = (URM_train>0).sum(axis=0) # ALL\n",
    "        if(age==1):\n",
    "            itemPopularity = (URM_train[userAge1, :]>0).sum(axis=0)\n",
    "        if(age==2):\n",
    "            itemPopularity = (URM_train[userAge2, :]>0).sum(axis=0)\n",
    "        if(age==3):\n",
    "            itemPopularity = (URM_train[userAge3, :]>0).sum(axis=0)\n",
    "        if(age==4):\n",
    "            itemPopularity = (URM_train[userAge4, :]>0).sum(axis=0)\n",
    "        if(age==5):\n",
    "            itemPopularity = (URM_train[userAge5, :]>0).sum(axis=0)\n",
    "        if(age==6):\n",
    "            itemPopularity = (URM_train[userAge6, :]>0).sum(axis=0)\n",
    "        if(age==7):\n",
    "            itemPopularity = (URM_train[userAge7, :]>0).sum(axis=0)\n",
    "        if(age==8):\n",
    "            itemPopularity = (URM_train[userAge8, :]>0).sum(axis=0)\n",
    "        if(age==9):\n",
    "            itemPopularity = (URM_train[userAge9, :]>0).sum(axis=0)\n",
    "        if(age==10):\n",
    "            itemPopularity = (URM_train[userAge10, :]>0).sum(axis=0)      \n",
    "        \n",
    "        \n",
    "        itemPopularity = np.array(itemPopularity).squeeze()\n",
    "\n",
    "        # We are not interested in sorting the popularity value,\n",
    "        # but to order the items according to it\n",
    "        self.popularItems = np.argsort(itemPopularity)\n",
    "        self.popularItems = np.flip(self.popularItems, axis = 0)\n",
    "    "
   ]
  },
  {
   "cell_type": "code",
   "execution_count": 111,
   "metadata": {},
   "outputs": [
    {
     "name": "stdout",
     "output_type": "stream",
     "text": [
      "[ 3660 14846  3337  4343  3873]\n",
      "[ 3660 14846  3337  4343  3873]\n",
      "[ 3660 14846  3337  4343  3873]\n",
      "[ 3660 14846  3337  4343  3873]\n",
      "[ 3660 14846  3337  4343  3873]\n",
      "[ 3660 14846  3337  4343  3873]\n",
      "[ 3660 14846  3337  4343  3873]\n",
      "[ 3660 14846  3337  4343  3873]\n",
      "[ 3660 14846  3337  4343  3873]\n",
      "[ 3660 14846  3337  4343  3873]\n"
     ]
    }
   ],
   "source": [
    "recommenderTopPop = TopPopRecommender()\n",
    "recommenderTopPop.fit2(URM_allMod,age=4)\n",
    "for user_id in newUsers[0:10]:\n",
    "    print(recommenderTopPop.recommend(user_id, at=5))"
   ]
  },
  {
   "cell_type": "code",
   "execution_count": 112,
   "metadata": {},
   "outputs": [
    {
     "data": {
      "text/plain": [
       "<30911x15277 sparse matrix of type '<class 'numpy.float64'>'\n",
       "\twith 402292 stored elements in Compressed Sparse Row format>"
      ]
     },
     "execution_count": 112,
     "metadata": {},
     "output_type": "execute_result"
    }
   ],
   "source": [
    "URM_allMod"
   ]
  },
  {
   "cell_type": "code",
   "execution_count": 113,
   "metadata": {},
   "outputs": [
    {
     "data": {
      "text/plain": [
       "<bound method csr_matrix.tocsr of <30911x2 sparse matrix of type '<class 'numpy.int32'>'\n",
       "\twith 56691 stored elements in Compressed Sparse Row format>>"
      ]
     },
     "execution_count": 113,
     "metadata": {},
     "output_type": "execute_result"
    }
   ],
   "source": [
    "UCM_all.tocsr"
   ]
  },
  {
   "cell_type": "code",
   "execution_count": 118,
   "metadata": {},
   "outputs": [],
   "source": [
    "#################################################################\n",
    "URM_trainMod = sps.csr_matrix(URM_trainMod)\n",
    "\n",
    "profile_length = np.ediff1d(URM_trainMod.indptr)\n"
   ]
  },
  {
   "cell_type": "code",
   "execution_count": 119,
   "metadata": {},
   "outputs": [
    {
     "data": {
      "text/plain": [
       "1545"
      ]
     },
     "execution_count": 119,
     "metadata": {},
     "output_type": "execute_result"
    }
   ],
   "source": [
    "block_size = int(len(profile_length)*0.05)\n",
    "block_size"
   ]
  },
  {
   "cell_type": "code",
   "execution_count": 120,
   "metadata": {},
   "outputs": [],
   "source": [
    "sorted_users = np.argsort(profile_length)"
   ]
  },
  {
   "cell_type": "code",
   "execution_count": 121,
   "metadata": {},
   "outputs": [
    {
     "name": "stdout",
     "output_type": "stream",
     "text": [
      "Group 0, average p.len 0.00, min 0, max 0\n",
      "Group 1, average p.len 0.00, min 0, max 0\n",
      "Group 2, average p.len 0.00, min 0, max 0\n",
      "Group 3, average p.len 0.00, min 0, max 0\n",
      "Group 4, average p.len 0.00, min 0, max 0\n",
      "Group 5, average p.len 0.00, min 0, max 0\n",
      "Group 6, average p.len 0.00, min 0, max 0\n",
      "Group 7, average p.len 0.35, min 0, max 1\n",
      "Group 8, average p.len 1.39, min 1, max 2\n",
      "Group 9, average p.len 2.47, min 2, max 3\n",
      "Group 10, average p.len 3.67, min 3, max 4\n",
      "Group 11, average p.len 5.29, min 4, max 6\n",
      "Group 12, average p.len 6.93, min 6, max 8\n",
      "Group 13, average p.len 9.01, min 8, max 10\n",
      "Group 14, average p.len 11.51, min 10, max 13\n",
      "Group 15, average p.len 14.58, min 13, max 16\n",
      "Group 16, average p.len 18.45, min 16, max 21\n",
      "Group 17, average p.len 24.22, min 21, max 28\n",
      "Group 18, average p.len 33.49, min 28, max 40\n",
      "Group 19, average p.len 62.57, min 41, max 240\n"
     ]
    }
   ],
   "source": [
    "for group_id in range(0, 20):\n",
    "    \n",
    "    start_pos = group_id*block_size\n",
    "    end_pos = min((group_id+1)*block_size, len(profile_length))\n",
    "    \n",
    "    users_in_group = sorted_users[start_pos:end_pos]\n",
    "    \n",
    "    users_in_group_p_len = profile_length[users_in_group]\n",
    "    \n",
    "    print(\"Group {}, average p.len {:.2f}, min {}, max {}\".format(group_id, \n",
    "        users_in_group_p_len.mean(), users_in_group_p_len.min(), users_in_group_p_len.max()))"
   ]
  },
  {
   "cell_type": "code",
   "execution_count": 122,
   "metadata": {},
   "outputs": [
    {
     "name": "stdout",
     "output_type": "stream",
     "text": [
      "TopPopRecommender: URM Detected 11826 (38.26 %) cold users.\n",
      "TopPopRecommender: URM Detected 554 (3.63 %) cold items.\n"
     ]
    }
   ],
   "source": [
    "from Base.NonPersonalizedRecommender import TopPop\n",
    "\n",
    "topPop = TopPop(URM_trainMod)\n",
    "topPop.fit()"
   ]
  },
  {
   "cell_type": "code",
   "execution_count": 123,
   "metadata": {},
   "outputs": [],
   "source": [
    "from KNN.ItemKNNCBFRecommender import ItemKNNCBFRecommender\n",
    "\n",
    "recommender_class = ItemKNNCBFRecommender\n",
    "\n",
    "parameterSearch = SearchBayesianSkopt(recommender_class,\n",
    "                                 evaluator_validation=evaluator_validation,\n",
    "                                 evaluator_test=evaluator_test)"
   ]
  },
  {
   "cell_type": "code",
   "execution_count": 88,
   "metadata": {},
   "outputs": [
    {
     "name": "stdout",
     "output_type": "stream",
     "text": [
      "18495\n",
      "2011\n",
      "15277\n",
      "15277\n",
      "2011\n"
     ]
    }
   ],
   "source": [
    "# ONLY ONCE PER KERNEL ###########################################################\n",
    "\n",
    "\n",
    "\n",
    "# print(ICM_all.shape[0])\n",
    "# print(ICM_all.shape[1])\n",
    "\n",
    "# x = list(set(warm_items)- set(newItems))\n",
    "# print(len(x))\n",
    "\n",
    "# if(ICM_all.shape[0] > 15277):\n",
    "#     ICM_all = ICM_all[x , :] #TODO\n",
    "\n",
    "# print(ICM_all.shape[0])\n",
    "# print(ICM_all.shape[1])"
   ]
  },
  {
   "cell_type": "code",
   "execution_count": 133,
   "metadata": {},
   "outputs": [],
   "source": [
    "############ NON VA\n",
    "\n",
    "# from KNN.ItemKNNCBFRecommender import ItemKNNCBFRecommender\n",
    "\n",
    "# recommender_class = ItemKNNCBFRecommender\n",
    "\n",
    "# parameterSearch = SearchBayesianSkopt(recommender_class,\n",
    "#                                  evaluator_validation=evaluator_validation,\n",
    "#                                  evaluator_test=evaluator_test)"
   ]
  },
  {
   "cell_type": "code",
   "execution_count": 134,
   "metadata": {},
   "outputs": [
    {
     "name": "stdout",
     "output_type": "stream",
     "text": [
      "Iteration No: 1 started. Evaluating function at random point.\n",
      "ItemKNNCBFRecommender: URM Detected 4736 (17.38 %) cold users.\n",
      "ItemKNNCBFRecommender: URM Detected 314 (2.06 %) cold items.\n",
      "SearchBayesianSkopt: Testing config: {'topK': 956, 'shrink': 779, 'similarity': 'cosine', 'normalize': True}\n",
      "Unable to load Cython Compute_Similarity, reverting to Python\n",
      "Similarity column 15277 ( 100 % ), 3237.02 column/sec, elapsed time 0.08 min\n",
      "SearchBayesianSkopt: Config 0 Exception. Config: {'topK': 956, 'shrink': 779, 'similarity': 'cosine', 'normalize': True} - Exception: Traceback (most recent call last):\n",
      "  File \"D:\\JupyterFolder\\ParameterTuning\\SearchAbstractClass.py\", line 362, in _objective_function\n",
      "    result_dict, result_string, recommender_instance, train_time, evaluation_time = self._evaluate_on_validation(current_fit_parameters_dict)\n",
      "  File \"D:\\JupyterFolder\\ParameterTuning\\SearchAbstractClass.py\", line 272, in _evaluate_on_validation\n",
      "    result_dict, _ = self.evaluator_validation.evaluateRecommender(recommender_instance)\n",
      "  File \"D:\\JupyterFolder\\Base\\Evaluation\\Evaluator.py\", line 397, in evaluateRecommender\n",
      "    results_dict, n_users_evaluated = self._run_evaluation_on_selected_users(recommender_object, self.usersToEvaluate)\n",
      "  File \"D:\\JupyterFolder\\Base\\Evaluation\\Evaluator.py\", line 302, in _run_evaluation_on_selected_users\n",
      "    return_scores = True\n",
      "  File \"D:\\JupyterFolder\\Base\\BaseRecommender.py\", line 128, in recommend\n",
      "    scores_batch = self._compute_item_score(user_id_array, items_to_compute=items_to_compute)\n",
      "  File \"D:\\JupyterFolder\\Base\\BaseSimilarityMatrixRecommender.py\", line 83, in _compute_item_score\n",
      "    user_profile_array = self.URM_train[user_id_array]\n",
      "  File \"D:\\Python\\lib\\site-packages\\scipy\\sparse\\_index.py\", line 35, in __getitem__\n",
      "    row, col = self._validate_indices(key)\n",
      "  File \"D:\\Python\\lib\\site-packages\\scipy\\sparse\\_index.py\", line 140, in _validate_indices\n",
      "    row = self._asindices(row, M)\n",
      "  File \"D:\\Python\\lib\\site-packages\\scipy\\sparse\\_index.py\", line 172, in _asindices\n",
      "    raise IndexError('index (%d) out of range' % max_indx)\n",
      "IndexError: index (28594) out of range\n",
      "\n",
      "\n"
     ]
    },
    {
     "name": "stderr",
     "output_type": "stream",
     "text": [
      "Traceback (most recent call last):\n",
      "  File \"D:\\JupyterFolder\\ParameterTuning\\SearchAbstractClass.py\", line 362, in _objective_function\n",
      "    result_dict, result_string, recommender_instance, train_time, evaluation_time = self._evaluate_on_validation(current_fit_parameters_dict)\n",
      "  File \"D:\\JupyterFolder\\ParameterTuning\\SearchAbstractClass.py\", line 272, in _evaluate_on_validation\n",
      "    result_dict, _ = self.evaluator_validation.evaluateRecommender(recommender_instance)\n",
      "  File \"D:\\JupyterFolder\\Base\\Evaluation\\Evaluator.py\", line 397, in evaluateRecommender\n",
      "    results_dict, n_users_evaluated = self._run_evaluation_on_selected_users(recommender_object, self.usersToEvaluate)\n",
      "  File \"D:\\JupyterFolder\\Base\\Evaluation\\Evaluator.py\", line 302, in _run_evaluation_on_selected_users\n",
      "    return_scores = True\n",
      "  File \"D:\\JupyterFolder\\Base\\BaseRecommender.py\", line 128, in recommend\n",
      "    scores_batch = self._compute_item_score(user_id_array, items_to_compute=items_to_compute)\n",
      "  File \"D:\\JupyterFolder\\Base\\BaseSimilarityMatrixRecommender.py\", line 83, in _compute_item_score\n",
      "    user_profile_array = self.URM_train[user_id_array]\n",
      "  File \"D:\\Python\\lib\\site-packages\\scipy\\sparse\\_index.py\", line 35, in __getitem__\n",
      "    row, col = self._validate_indices(key)\n",
      "  File \"D:\\Python\\lib\\site-packages\\scipy\\sparse\\_index.py\", line 140, in _validate_indices\n",
      "    row = self._asindices(row, M)\n",
      "  File \"D:\\Python\\lib\\site-packages\\scipy\\sparse\\_index.py\", line 172, in _asindices\n",
      "    raise IndexError('index (%d) out of range' % max_indx)\n",
      "IndexError: index (28594) out of range\n"
     ]
    },
    {
     "name": "stdout",
     "output_type": "stream",
     "text": [
      "Iteration No: 1 ended. Evaluation done at random point.\n",
      "Time taken: 17.2022\n",
      "Function value obtained: 65504.0000\n",
      "Current minimum: 65504.0000\n",
      "Iteration No: 2 started. Searching for the next optimal point.\n",
      "ItemKNNCBFRecommender: URM Detected 4736 (17.38 %) cold users.\n",
      "ItemKNNCBFRecommender: URM Detected 314 (2.06 %) cold items.\n",
      "SearchBayesianSkopt: Testing config: {'topK': 5, 'shrink': 0, 'similarity': 'cosine', 'normalize': False}\n",
      "Unable to load Cython Compute_Similarity, reverting to Python\n",
      "Similarity column 15277 ( 100 % ), 5380.01 column/sec, elapsed time 0.05 min\n",
      "SearchBayesianSkopt: Config 1 Exception. Config: {'topK': 5, 'shrink': 0, 'similarity': 'cosine', 'normalize': False} - Exception: Traceback (most recent call last):\n",
      "  File \"D:\\JupyterFolder\\ParameterTuning\\SearchAbstractClass.py\", line 362, in _objective_function\n",
      "    result_dict, result_string, recommender_instance, train_time, evaluation_time = self._evaluate_on_validation(current_fit_parameters_dict)\n",
      "  File \"D:\\JupyterFolder\\ParameterTuning\\SearchAbstractClass.py\", line 272, in _evaluate_on_validation\n",
      "    result_dict, _ = self.evaluator_validation.evaluateRecommender(recommender_instance)\n",
      "  File \"D:\\JupyterFolder\\Base\\Evaluation\\Evaluator.py\", line 397, in evaluateRecommender\n",
      "    results_dict, n_users_evaluated = self._run_evaluation_on_selected_users(recommender_object, self.usersToEvaluate)\n",
      "  File \"D:\\JupyterFolder\\Base\\Evaluation\\Evaluator.py\", line 302, in _run_evaluation_on_selected_users\n",
      "    return_scores = True\n",
      "  File \"D:\\JupyterFolder\\Base\\BaseRecommender.py\", line 128, in recommend\n",
      "    scores_batch = self._compute_item_score(user_id_array, items_to_compute=items_to_compute)\n",
      "  File \"D:\\JupyterFolder\\Base\\BaseSimilarityMatrixRecommender.py\", line 83, in _compute_item_score\n",
      "    user_profile_array = self.URM_train[user_id_array]\n",
      "  File \"D:\\Python\\lib\\site-packages\\scipy\\sparse\\_index.py\", line 35, in __getitem__\n",
      "    row, col = self._validate_indices(key)\n",
      "  File \"D:\\Python\\lib\\site-packages\\scipy\\sparse\\_index.py\", line 140, in _validate_indices\n",
      "    row = self._asindices(row, M)\n",
      "  File \"D:\\Python\\lib\\site-packages\\scipy\\sparse\\_index.py\", line 172, in _asindices\n",
      "    raise IndexError('index (%d) out of range' % max_indx)\n",
      "IndexError: index (28594) out of range\n",
      "\n",
      "\n"
     ]
    },
    {
     "name": "stderr",
     "output_type": "stream",
     "text": [
      "Traceback (most recent call last):\n",
      "  File \"D:\\JupyterFolder\\ParameterTuning\\SearchAbstractClass.py\", line 362, in _objective_function\n",
      "    result_dict, result_string, recommender_instance, train_time, evaluation_time = self._evaluate_on_validation(current_fit_parameters_dict)\n",
      "  File \"D:\\JupyterFolder\\ParameterTuning\\SearchAbstractClass.py\", line 272, in _evaluate_on_validation\n",
      "    result_dict, _ = self.evaluator_validation.evaluateRecommender(recommender_instance)\n",
      "  File \"D:\\JupyterFolder\\Base\\Evaluation\\Evaluator.py\", line 397, in evaluateRecommender\n",
      "    results_dict, n_users_evaluated = self._run_evaluation_on_selected_users(recommender_object, self.usersToEvaluate)\n",
      "  File \"D:\\JupyterFolder\\Base\\Evaluation\\Evaluator.py\", line 302, in _run_evaluation_on_selected_users\n",
      "    return_scores = True\n",
      "  File \"D:\\JupyterFolder\\Base\\BaseRecommender.py\", line 128, in recommend\n",
      "    scores_batch = self._compute_item_score(user_id_array, items_to_compute=items_to_compute)\n",
      "  File \"D:\\JupyterFolder\\Base\\BaseSimilarityMatrixRecommender.py\", line 83, in _compute_item_score\n",
      "    user_profile_array = self.URM_train[user_id_array]\n",
      "  File \"D:\\Python\\lib\\site-packages\\scipy\\sparse\\_index.py\", line 35, in __getitem__\n",
      "    row, col = self._validate_indices(key)\n",
      "  File \"D:\\Python\\lib\\site-packages\\scipy\\sparse\\_index.py\", line 140, in _validate_indices\n",
      "    row = self._asindices(row, M)\n",
      "  File \"D:\\Python\\lib\\site-packages\\scipy\\sparse\\_index.py\", line 172, in _asindices\n",
      "    raise IndexError('index (%d) out of range' % max_indx)\n",
      "IndexError: index (28594) out of range\n"
     ]
    },
    {
     "name": "stdout",
     "output_type": "stream",
     "text": [
      "Iteration No: 2 ended. Search finished for the next optimal point.\n",
      "Time taken: 13.3899\n",
      "Function value obtained: 65504.0000\n",
      "Current minimum: 65504.0000\n",
      "SearchBayesianSkopt: Search complete. Best config is None: None\n",
      "\n"
     ]
    }
   ],
   "source": [
    "# hyperparameters_range_dictionary = {}\n",
    "# hyperparameters_range_dictionary[\"topK\"] = Integer(5, 1000)\n",
    "# hyperparameters_range_dictionary[\"shrink\"] = Integer(0, 1000)\n",
    "# hyperparameters_range_dictionary[\"similarity\"] = Categorical([\"cosine\"])\n",
    "# hyperparameters_range_dictionary[\"normalize\"] = Categorical([True, False])\n",
    "    \n",
    "    \n",
    "# recommender_input_args = SearchInputRecommenderArgs(\n",
    "#     CONSTRUCTOR_POSITIONAL_ARGS = [URM_train, ICM_all],\n",
    "#     CONSTRUCTOR_KEYWORD_ARGS = {},\n",
    "#     FIT_POSITIONAL_ARGS = [],\n",
    "#     FIT_KEYWORD_ARGS = {}\n",
    "# )\n",
    "\n",
    "\n",
    "# output_folder_path = \"result_experiments/\"\n",
    "\n",
    "# import os\n",
    "\n",
    "# # If directory does not exist, create\n",
    "# if not os.path.exists(output_folder_path):\n",
    "#     os.makedirs(output_folder_path)\n",
    "    \n",
    "    \n",
    "    \n",
    "# n_cases = 2\n",
    "# metric_to_optimize = \"MAP\"\n",
    "\n",
    "# parameterSearch.search(recommender_input_args,\n",
    "#                        parameter_search_space = hyperparameters_range_dictionary,\n",
    "#                        n_cases = n_cases,\n",
    "#                        n_random_starts = 1,\n",
    "#                        save_model = \"no\",\n",
    "#                        output_folder_path = output_folder_path,\n",
    "#                        output_file_name_root = recommender_class.RECOMMENDER_NAME,\n",
    "#                        metric_to_optimize = metric_to_optimize\n",
    "#                       )"
   ]
  },
  {
   "cell_type": "code",
   "execution_count": null,
   "metadata": {},
   "outputs": [],
   "source": [
    "\n",
    "# data_loader = DataIO(folder_path = output_folder_path)\n",
    "# search_metadata = data_loader.load_data(recommender_class.RECOMMENDER_NAME + \"_metadata.zip\")\n",
    "\n",
    "# best_parameters_ItemKNNCBF = search_metadata[\"hyperparameters_best\"]\n",
    "# best_parameters_ItemKNNCBF"
   ]
  },
  {
   "cell_type": "code",
   "execution_count": null,
   "metadata": {},
   "outputs": [],
   "source": [
    "# itemKNNCBF = ItemKNNCBFRecommender(URM_train, ICM_all)\n",
    "# itemKNNCBF.fit(**best_parameters_ItemKNNCBF)\n",
    "\n",
    "################## NON VA"
   ]
  },
  {
   "cell_type": "code",
   "execution_count": null,
   "metadata": {},
   "outputs": [],
   "source": []
  },
  {
   "cell_type": "code",
   "execution_count": 124,
   "metadata": {},
   "outputs": [
    {
     "name": "stdout",
     "output_type": "stream",
     "text": [
      "ItemKNNCBFRecommender: URM Detected 11826 (38.26 %) cold users.\n",
      "ItemKNNCBFRecommender: URM Detected 554 (3.63 %) cold items.\n",
      "Unable to load Cython Compute_Similarity, reverting to Python\n",
      "Similarity column 15277 ( 100 % ), 5048.42 column/sec, elapsed time 0.05 min\n"
     ]
    }
   ],
   "source": [
    "itemKNNCBF = ItemKNNCBFRecommender(URM_trainMod, ICM_all)\n",
    "itemKNNCBF.fit(topK= 414, shrink = 51, similarity= 'cosine', normalize= False) ###### TODO"
   ]
  },
  {
   "cell_type": "code",
   "execution_count": 125,
   "metadata": {},
   "outputs": [],
   "source": [
    "# warm_items = np.arange(URM_all.shape[1])\n",
    "# ICM_all[warm_items, :]"
   ]
  },
  {
   "cell_type": "code",
   "execution_count": 126,
   "metadata": {},
   "outputs": [
    {
     "data": {
      "text/plain": [
       "<30911x15277 sparse matrix of type '<class 'numpy.float64'>'\n",
       "\twith 303681 stored elements in Compressed Sparse Row format>"
      ]
     },
     "execution_count": 126,
     "metadata": {},
     "output_type": "execute_result"
    }
   ],
   "source": [
    "URM_trainMod"
   ]
  },
  {
   "cell_type": "code",
   "execution_count": 127,
   "metadata": {},
   "outputs": [
    {
     "name": "stdout",
     "output_type": "stream",
     "text": [
      "15277\n",
      "18495\n",
      "15277\n",
      "2011\n",
      "30911\n",
      "15277\n",
      "30911\n",
      "15277\n"
     ]
    }
   ],
   "source": [
    "# warm_items = np.arange(URM_allMod.shape[1])\n",
    "\n",
    "\n",
    "# x = list(set(warm_items)- set(newItems))\n",
    "# URM_testMod = URM_testMod[: , x]\n",
    "print(URM_allMod.shape[1])\n",
    "print(len(warm_items))\n",
    "# print(len(x))\n",
    "print(ICM_all.shape[0])\n",
    "print(ICM_all.shape[1])\n",
    "print(URM_trainMod.shape[0])\n",
    "print(URM_trainMod.shape[1])\n",
    "\n",
    "print(URM_testMod.shape[0])\n",
    "print(URM_testMod.shape[1])"
   ]
  },
  {
   "cell_type": "code",
   "execution_count": 128,
   "metadata": {},
   "outputs": [
    {
     "name": "stdout",
     "output_type": "stream",
     "text": [
      "15277\n",
      "30911\n",
      "30911\n",
      "398636\n"
     ]
    }
   ],
   "source": [
    "# URM_testMod = URM_testMod[: , x]\n",
    "print(URM_trainMod.shape[1])\n",
    "# print(len(x))\n",
    "print(URM_allMod.shape[0])\n",
    "print(UCM_all.shape[0])\n",
    "print(len(userList))"
   ]
  },
  {
   "cell_type": "code",
   "execution_count": 129,
   "metadata": {},
   "outputs": [
    {
     "name": "stdout",
     "output_type": "stream",
     "text": [
      "30911\n",
      "15277\n"
     ]
    }
   ],
   "source": [
    "print(URM_testMod.shape[0])\n",
    "print(URM_testMod.shape[1])"
   ]
  },
  {
   "cell_type": "code",
   "execution_count": 135,
   "metadata": {},
   "outputs": [
    {
     "name": "stdout",
     "output_type": "stream",
     "text": [
      "Group 0, average p.len 0.00, min 0, max 0\n",
      "EvaluatorHoldout: Ignoring 29366 Users\n",
      "EvaluatorHoldout: Processed 1031 ( 100.00% ) in 0.55 sec. Users per second: 1891\n",
      "EvaluatorHoldout: Processed 1031 ( 100.00% ) in 0.58 sec. Users per second: 1772\n",
      "EvaluatorHoldout: Processed 1031 ( 100.00% ) in 0.55 sec. Users per second: 1876\n",
      "EvaluatorHoldout: Processed 1031 ( 100.00% ) in 0.66 sec. Users per second: 1555\n",
      "Group 1, average p.len 0.00, min 0, max 0\n",
      "EvaluatorHoldout: Ignoring 29366 Users\n",
      "EvaluatorHoldout: Processed 1034 ( 100.00% ) in 0.54 sec. Users per second: 1930\n",
      "EvaluatorHoldout: Processed 1034 ( 100.00% ) in 0.55 sec. Users per second: 1870\n",
      "EvaluatorHoldout: Processed 1034 ( 100.00% ) in 0.55 sec. Users per second: 1883\n",
      "EvaluatorHoldout: Processed 1034 ( 100.00% ) in 0.65 sec. Users per second: 1601\n",
      "Group 2, average p.len 0.00, min 0, max 0\n",
      "EvaluatorHoldout: Ignoring 29366 Users\n",
      "EvaluatorHoldout: Processed 1066 ( 100.00% ) in 0.55 sec. Users per second: 1955\n",
      "EvaluatorHoldout: Processed 1066 ( 100.00% ) in 0.58 sec. Users per second: 1824\n",
      "EvaluatorHoldout: Processed 1066 ( 100.00% ) in 0.72 sec. Users per second: 1480\n",
      "EvaluatorHoldout: Processed 1066 ( 100.00% ) in 0.74 sec. Users per second: 1449\n",
      "Group 3, average p.len 0.00, min 0, max 0\n",
      "EvaluatorHoldout: Ignoring 29366 Users\n",
      "EvaluatorHoldout: Processed 1105 ( 100.00% ) in 0.77 sec. Users per second: 1428\n",
      "EvaluatorHoldout: Processed 1105 ( 100.00% ) in 0.62 sec. Users per second: 1781\n",
      "EvaluatorHoldout: Processed 1105 ( 100.00% ) in 0.56 sec. Users per second: 1972\n",
      "EvaluatorHoldout: Processed 1105 ( 100.00% ) in 0.66 sec. Users per second: 1674\n",
      "Group 4, average p.len 0.00, min 0, max 0\n",
      "EvaluatorHoldout: Ignoring 29366 Users\n",
      "EvaluatorHoldout: Processed 1096 ( 100.00% ) in 0.56 sec. Users per second: 1959\n",
      "EvaluatorHoldout: Processed 1096 ( 100.00% ) in 0.59 sec. Users per second: 1849\n",
      "EvaluatorHoldout: Processed 1096 ( 100.00% ) in 0.56 sec. Users per second: 1950\n",
      "EvaluatorHoldout: Processed 1096 ( 100.00% ) in 0.68 sec. Users per second: 1621\n",
      "Group 5, average p.len 0.00, min 0, max 0\n",
      "EvaluatorHoldout: Ignoring 29366 Users\n",
      "EvaluatorHoldout: Processed 1072 ( 100.00% ) in 0.55 sec. Users per second: 1958\n",
      "EvaluatorHoldout: Processed 1072 ( 100.00% ) in 0.58 sec. Users per second: 1857\n",
      "EvaluatorHoldout: Processed 1072 ( 100.00% ) in 0.55 sec. Users per second: 1935\n",
      "EvaluatorHoldout: Processed 1072 ( 100.00% ) in 0.66 sec. Users per second: 1625\n",
      "Group 6, average p.len 0.00, min 0, max 0\n",
      "EvaluatorHoldout: Ignoring 29366 Users\n",
      "EvaluatorHoldout: Processed 1062 ( 100.00% ) in 0.55 sec. Users per second: 1948\n",
      "EvaluatorHoldout: Processed 1062 ( 100.00% ) in 0.58 sec. Users per second: 1844\n",
      "EvaluatorHoldout: Processed 1062 ( 100.00% ) in 0.54 sec. Users per second: 1970\n",
      "EvaluatorHoldout: Processed 1062 ( 100.00% ) in 0.66 sec. Users per second: 1613\n",
      "Group 7, average p.len 0.35, min 0, max 1\n",
      "EvaluatorHoldout: Ignoring 29366 Users\n",
      "EvaluatorHoldout: Processed 1238 ( 100.00% ) in 0.63 sec. Users per second: 1958\n",
      "EvaluatorHoldout: Processed 1238 ( 100.00% ) in 0.71 sec. Users per second: 1755\n",
      "EvaluatorHoldout: Processed 1238 ( 100.00% ) in 0.63 sec. Users per second: 1968\n",
      "EvaluatorHoldout: Processed 1238 ( 100.00% ) in 0.78 sec. Users per second: 1583\n",
      "Group 8, average p.len 1.39, min 1, max 2\n",
      "EvaluatorHoldout: Ignoring 29366 Users\n",
      "EvaluatorHoldout: Processed 1545 ( 100.00% ) in 0.77 sec. Users per second: 1998\n",
      "EvaluatorHoldout: Processed 1545 ( 100.00% ) in 0.96 sec. Users per second: 1602\n",
      "EvaluatorHoldout: Processed 1545 ( 100.00% ) in 0.76 sec. Users per second: 2034\n",
      "EvaluatorHoldout: Processed 1545 ( 100.00% ) in 0.96 sec. Users per second: 1606\n",
      "Group 9, average p.len 2.47, min 2, max 3\n",
      "EvaluatorHoldout: Ignoring 29366 Users\n",
      "EvaluatorHoldout: Processed 1545 ( 100.00% ) in 0.80 sec. Users per second: 1931\n",
      "EvaluatorHoldout: Processed 1545 ( 100.00% ) in 1.15 sec. Users per second: 1348\n",
      "EvaluatorHoldout: Processed 1545 ( 100.00% ) in 0.90 sec. Users per second: 1715\n",
      "EvaluatorHoldout: Processed 1545 ( 100.00% ) in 1.06 sec. Users per second: 1464\n",
      "Group 10, average p.len 3.67, min 3, max 4\n",
      "EvaluatorHoldout: Ignoring 29366 Users\n",
      "EvaluatorHoldout: Processed 1545 ( 100.00% ) in 0.89 sec. Users per second: 1731\n",
      "EvaluatorHoldout: Processed 1545 ( 100.00% ) in 1.19 sec. Users per second: 1298\n",
      "EvaluatorHoldout: Processed 1545 ( 100.00% ) in 0.87 sec. Users per second: 1777\n",
      "EvaluatorHoldout: Processed 1545 ( 100.00% ) in 0.93 sec. Users per second: 1657\n",
      "Group 11, average p.len 5.29, min 4, max 6\n",
      "EvaluatorHoldout: Ignoring 29366 Users\n",
      "EvaluatorHoldout: Processed 1545 ( 100.00% ) in 0.82 sec. Users per second: 1875\n",
      "EvaluatorHoldout: Processed 1545 ( 100.00% ) in 0.97 sec. Users per second: 1593\n",
      "EvaluatorHoldout: Processed 1545 ( 100.00% ) in 0.78 sec. Users per second: 1984\n",
      "EvaluatorHoldout: Processed 1545 ( 100.00% ) in 0.97 sec. Users per second: 1593\n",
      "Group 12, average p.len 6.93, min 6, max 8\n",
      "EvaluatorHoldout: Ignoring 29366 Users\n",
      "EvaluatorHoldout: Processed 1545 ( 100.00% ) in 0.83 sec. Users per second: 1854\n",
      "EvaluatorHoldout: Processed 1545 ( 100.00% ) in 0.97 sec. Users per second: 1597\n",
      "EvaluatorHoldout: Processed 1545 ( 100.00% ) in 0.78 sec. Users per second: 1979\n",
      "EvaluatorHoldout: Processed 1545 ( 100.00% ) in 0.96 sec. Users per second: 1604\n",
      "Group 13, average p.len 9.01, min 8, max 10\n",
      "EvaluatorHoldout: Ignoring 29366 Users\n",
      "EvaluatorHoldout: Processed 1545 ( 100.00% ) in 0.86 sec. Users per second: 1805\n",
      "EvaluatorHoldout: Processed 1545 ( 100.00% ) in 0.96 sec. Users per second: 1605\n",
      "EvaluatorHoldout: Processed 1545 ( 100.00% ) in 0.79 sec. Users per second: 1968\n",
      "EvaluatorHoldout: Processed 1545 ( 100.00% ) in 0.96 sec. Users per second: 1611\n",
      "Group 14, average p.len 11.51, min 10, max 13\n",
      "EvaluatorHoldout: Ignoring 29366 Users\n",
      "EvaluatorHoldout: Processed 1545 ( 100.00% ) in 0.86 sec. Users per second: 1788\n",
      "EvaluatorHoldout: Processed 1545 ( 100.00% ) in 0.97 sec. Users per second: 1593\n",
      "EvaluatorHoldout: Processed 1545 ( 100.00% ) in 0.79 sec. Users per second: 1960\n",
      "EvaluatorHoldout: Processed 1545 ( 100.00% ) in 1.13 sec. Users per second: 1366\n",
      "Group 15, average p.len 14.58, min 13, max 16\n",
      "EvaluatorHoldout: Ignoring 29366 Users\n",
      "EvaluatorHoldout: Processed 1545 ( 100.00% ) in 1.15 sec. Users per second: 1346\n",
      "EvaluatorHoldout: Processed 1545 ( 100.00% ) in 1.01 sec. Users per second: 1528\n",
      "EvaluatorHoldout: Processed 1545 ( 100.00% ) in 0.79 sec. Users per second: 1948\n",
      "EvaluatorHoldout: Processed 1545 ( 100.00% ) in 1.32 sec. Users per second: 1173\n",
      "Group 16, average p.len 18.45, min 16, max 21\n",
      "EvaluatorHoldout: Ignoring 29366 Users\n",
      "EvaluatorHoldout: Processed 1545 ( 100.00% ) in 1.05 sec. Users per second: 1476\n",
      "EvaluatorHoldout: Processed 1545 ( 100.00% ) in 0.98 sec. Users per second: 1581\n",
      "EvaluatorHoldout: Processed 1545 ( 100.00% ) in 0.81 sec. Users per second: 1912\n",
      "EvaluatorHoldout: Processed 1545 ( 100.00% ) in 1.05 sec. Users per second: 1466\n",
      "Group 17, average p.len 24.22, min 21, max 28\n",
      "EvaluatorHoldout: Ignoring 29366 Users\n",
      "EvaluatorHoldout: Processed 1545 ( 100.00% ) in 0.93 sec. Users per second: 1652\n",
      "EvaluatorHoldout: Processed 1545 ( 100.00% ) in 1.14 sec. Users per second: 1353\n",
      "EvaluatorHoldout: Processed 1545 ( 100.00% ) in 0.96 sec. Users per second: 1616\n",
      "EvaluatorHoldout: Processed 1545 ( 100.00% ) in 1.11 sec. Users per second: 1394\n",
      "Group 18, average p.len 33.49, min 28, max 40\n",
      "EvaluatorHoldout: Ignoring 29366 Users\n",
      "EvaluatorHoldout: Processed 1545 ( 100.00% ) in 1.06 sec. Users per second: 1461\n",
      "EvaluatorHoldout: Processed 1545 ( 100.00% ) in 0.99 sec. Users per second: 1564\n",
      "EvaluatorHoldout: Processed 1545 ( 100.00% ) in 0.93 sec. Users per second: 1653\n",
      "EvaluatorHoldout: Processed 1545 ( 100.00% ) in 1.16 sec. Users per second: 1331\n",
      "Group 19, average p.len 62.57, min 41, max 240\n",
      "EvaluatorHoldout: Ignoring 29366 Users\n",
      "EvaluatorHoldout: Processed 1545 ( 100.00% ) in 1.30 sec. Users per second: 1189\n",
      "EvaluatorHoldout: Processed 1545 ( 100.00% ) in 1.07 sec. Users per second: 1439\n",
      "EvaluatorHoldout: Processed 1545 ( 100.00% ) in 1.10 sec. Users per second: 1409\n",
      "EvaluatorHoldout: Processed 1545 ( 100.00% ) in 0.95 sec. Users per second: 1628\n"
     ]
    }
   ],
   "source": [
    "MAP_itemKNNCF_per_group = []\n",
    "MAP_itemKNNCBF_per_group = []\n",
    "MAP_pureSVD_per_group = []\n",
    "MAP_topPop_per_group = []\n",
    "cutoff = 10\n",
    "\n",
    "for group_id in range(0, 20):\n",
    "    \n",
    "    start_pos = group_id*block_size\n",
    "    end_pos = min((group_id+1)*block_size, len(profile_length))\n",
    "    \n",
    "    users_in_group = sorted_users[start_pos:end_pos]\n",
    "    \n",
    "    users_in_group_p_len = profile_length[users_in_group]\n",
    "    \n",
    "    print(\"Group {}, average p.len {:.2f}, min {}, max {}\".format(group_id, \n",
    "        users_in_group_p_len.mean(), users_in_group_p_len.min(), users_in_group_p_len.max()))\n",
    "    \n",
    "    \n",
    "    users_not_in_group_flag = np.isin(sorted_users, users_in_group, invert = True)\n",
    "    users_not_in_group = sorted_users[users_not_in_group_flag]\n",
    "    \n",
    "    evaluator_test = EvaluatorHoldout(URM_testMod, cutoff_list=[cutoff], ignore_users = users_not_in_group)\n",
    "    \n",
    "    \n",
    "    results, _ = evaluator_test.evaluateRecommender(itemKNNCF)\n",
    "    MAP_itemKNNCF_per_group.append(results[cutoff][\"MAP\"])\n",
    "    \n",
    "    results, _ = evaluator_test.evaluateRecommender(pureSVD)\n",
    "    MAP_pureSVD_per_group.append(results[cutoff][\"MAP\"])\n",
    "    \n",
    "    results, _ = evaluator_test.evaluateRecommender(itemKNNCBF)\n",
    "    MAP_itemKNNCBF_per_group.append(results[cutoff][\"MAP\"])\n",
    "\n",
    "    results, _ = evaluator_test.evaluateRecommender(topPop)\n",
    "    MAP_topPop_per_group.append(results[cutoff][\"MAP\"])"
   ]
  },
  {
   "cell_type": "code",
   "execution_count": 136,
   "metadata": {},
   "outputs": [],
   "source": [
    "#     print(ICM_all.shape[0])\n",
    "#     print(ICM_all.shape[1])\n",
    "    \n",
    "    \n",
    "# #     warm_items = np.arange(URM_allMod.shape[1])\n",
    "#     x = list(set(warm_items)- set(newItems))\n",
    "#     print(len(x))\n",
    "    \n",
    "#     if(ICM_all.shape[0] != 15277):\n",
    "#         ICM_all = ICM_all[x , :] #TODO\n",
    "        \n",
    "#     print(ICM_all.shape[0])\n",
    "#     print(ICM_all.shape[1])\n",
    "    \n",
    "#     print(URM_trainMod.shape[0])\n",
    "#     print(URM_trainMod.shape[1])\n"
   ]
  },
  {
   "cell_type": "code",
   "execution_count": 137,
   "metadata": {},
   "outputs": [
    {
     "data": {
      "image/png": "[encoded data removed]",
      "text/plain": [
       "<Figure size 432x288 with 1 Axes>"
      ]
     },
     "metadata": {
      "needs_background": "light"
     },
     "output_type": "display_data"
    }
   ],
   "source": [
    "import matplotlib.pyplot as pyplot\n",
    "%matplotlib inline  \n",
    "\n",
    "pyplot.plot(MAP_itemKNNCF_per_group, label=\"itemKNNCF\")\n",
    "pyplot.plot(MAP_itemKNNCBF_per_group, label=\"itemKNNCBF\")\n",
    "pyplot.plot(MAP_pureSVD_per_group, label=\"pureSVD\")\n",
    "pyplot.plot(MAP_topPop_per_group, label=\"topPop\")\n",
    "pyplot.ylabel('MAP')\n",
    "pyplot.xlabel('User Group')\n",
    "pyplot.legend()\n",
    "pyplot.show()"
   ]
  },
  {
   "cell_type": "code",
   "execution_count": null,
   "metadata": {},
   "outputs": [],
   "source": []
  },
  {
   "cell_type": "code",
   "execution_count": null,
   "metadata": {},
   "outputs": [],
   "source": []
  },
  {
   "cell_type": "code",
   "execution_count": 114,
   "metadata": {},
   "outputs": [],
   "source": [
    "cold_users_mask = np.ediff1d(URM_all.indptr) == 0\n",
    "cold_users = np.arange(URM_all.shape[0])[cold_users_mask]\n",
    "print(len(newUsers))\n",
    "newUsers.extend(cold_users)\n",
    "print(len(newUsers))"
   ]
  },
  {
   "cell_type": "code",
   "execution_count": 115,
   "metadata": {},
   "outputs": [],
   "source": [
    "from pandas import DataFrame\n",
    "\n",
    "recommended = []\n",
    "\n",
    "def convertToStr(value_list):\n",
    "   # Join all the strings in list\n",
    "   final_str = values = ' '.join(str(v) for v in value_list)\n",
    "   return final_str\n",
    "\n",
    "for user_id in finalUsers:\n",
    "    if(user_id in newUsers): \n",
    "#         print(user_id)\n",
    "#         print(age)\n",
    "#         print(UCM_all)\n",
    "        \n",
    "        age=UCM_all[user_id,0]\n",
    "        geo=UCM_all[user_id,1]\n",
    "        \n",
    "        recommenderTopPop.fit2(URM_allMod,age)\n",
    "            \n",
    "        recommended.append(convertToStr(recommenderTopPop.recommend(user_id, at=10)))  \n",
    "        \n",
    "    else:\n",
    "        recommended.append(convertToStr(collaborative_recommenderItemBased.recommend(user_id, at=10)))\n",
    "\n",
    "\n",
    "Recs = {'user_id' : finalUsers, 'item_list' : recommended}\n",
    "\n",
    "df = DataFrame(Recs)\n",
    "\n",
    "export_csv = df.to_csv (r'D:\\JupyterFolder\\Data\\export_dataframe.csv', index = None, header=True)\n",
    "print (df)\n"
   ]
  },
  {
   "cell_type": "code",
   "execution_count": 116,
   "metadata": {},
   "outputs": [],
   "source": [
    "def file_len(fname):\n",
    "    with open(fname) as f:\n",
    "        for i, l in enumerate(f):\n",
    "            pass\n",
    "    return i + 1\n",
    "\n",
    "file_len('D:\\JupyterFolder\\Data\\export_dataframe.csv')"
   ]
  },
  {
   "cell_type": "code",
   "execution_count": 117,
   "metadata": {},
   "outputs": [],
   "source": [
    "for user_id in newUsers[0:10]:\n",
    "    print(recommenderTopPop.recommend(user_id, at=10))"
   ]
  }
 ],
 "metadata": {
  "kernelspec": {
   "display_name": "Python 3",
   "language": "python",
   "name": "python3"
  },
  "language_info": {
   "codemirror_mode": {
    "name": "ipython",
    "version": 3
   },
   "file_extension": ".py",
   "mimetype": "text/x-python",
   "name": "python",
   "nbconvert_exporter": "python",
   "pygments_lexer": "ipython3",
   "version": "3.7.4"
  }
 },
 "nbformat": 4,
 "nbformat_minor": 2
}
